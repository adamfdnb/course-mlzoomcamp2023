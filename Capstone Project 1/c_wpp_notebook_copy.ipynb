{
 "cells": [
  {
   "cell_type": "markdown",
   "id": "35928925-f2a5-47a5-835a-11df57923ad2",
   "metadata": {
    "id": "35928925-f2a5-47a5-835a-11df57923ad2"
   },
   "source": [
    "### Dataset preparation / downloading from Kaggle"
   ]
  },
  {
   "cell_type": "code",
   "execution_count": null,
   "id": "07607031-8d61-4f12-86fc-b0e473e8124f",
   "metadata": {
    "id": "07607031-8d61-4f12-86fc-b0e473e8124f",
    "outputId": "441fdc5c-69f7-42b6-8ebc-a40700d593c0",
    "scrolled": true
   },
   "outputs": [],
   "source": [
    "# Install the Kaggle Python package\n",
    "!pip install kaggle"
   ]
  },
  {
   "cell_type": "code",
   "execution_count": null,
   "id": "baecd4e7-2b7f-4575-837b-cb7b7f4b4265",
   "metadata": {
    "id": "baecd4e7-2b7f-4575-837b-cb7b7f4b4265",
    "outputId": "f356a946-5a06-46b6-ef80-dfeab32e1f62"
   },
   "outputs": [],
   "source": [
    "# Create a directory named .kaggle for the kaggle.json file\n",
    "!mkdir -p /home/adam/.kaggle/"
   ]
  },
  {
   "cell_type": "code",
   "execution_count": null,
   "id": "29fa8a16-2ff5-4f42-8ad0-a2894707aa8f",
   "metadata": {
    "id": "29fa8a16-2ff5-4f42-8ad0-a2894707aa8f"
   },
   "outputs": [],
   "source": [
    "# Set appropriate permissions for the file\n",
    "!chmod 600 ~/.kaggle/kaggle.json"
   ]
  },
  {
   "cell_type": "code",
   "execution_count": null,
   "id": "c62cff6f-442e-45ec-9732-0bff334f66ea",
   "metadata": {
    "id": "c62cff6f-442e-45ec-9732-0bff334f66ea"
   },
   "outputs": [],
   "source": [
    "# Move the kaggle.json file to the .kaggle directory\n",
    "!mv ~/Pobrane/kaggle.json ~/.kaggle/kaggle.json"
   ]
  },
  {
   "cell_type": "code",
   "execution_count": null,
   "id": "7ab34dc7-dad3-4122-8014-741f1fac7237",
   "metadata": {
    "id": "7ab34dc7-dad3-4122-8014-741f1fac7237",
    "outputId": "52b8a8f9-251c-479e-947f-ef5d874e1d32"
   },
   "outputs": [],
   "source": [
    "from kaggle.api.kaggle_api_extended import KaggleApi\n",
    "\n",
    "# Create an instance of KaggleApi\n",
    "api = KaggleApi()\n",
    "\n",
    "# Authenticate using the Kaggle API\n",
    "api.authenticate()"
   ]
  },
  {
   "cell_type": "code",
   "execution_count": null,
   "id": "a739d0c2-7e8a-4ae2-8de9-73a7b4d67a9c",
   "metadata": {
    "id": "a739d0c2-7e8a-4ae2-8de9-73a7b4d67a9c",
    "outputId": "1328b9fe-14d3-4820-8987-09ea53be11a5"
   },
   "outputs": [],
   "source": [
    "# Download dataset using Kaggle CLI\n",
    "!kaggle datasets download -d adityakadiwal/water-potability -p dataset\n"
   ]
  },
  {
   "cell_type": "code",
   "execution_count": null,
   "id": "aa53a32c-bb8e-45f8-90e4-c6627b0197ec",
   "metadata": {
    "id": "aa53a32c-bb8e-45f8-90e4-c6627b0197ec",
    "outputId": "bd909a41-d265-468b-e517-023cb14dc294"
   },
   "outputs": [],
   "source": [
    "import zipfile\n",
    "import os\n",
    "\n",
    "# Path to the ZIP file\n",
    "zip_file_path = 'dataset/water-potability.zip'\n",
    "\n",
    "# Path to the directory where you want to extract files\n",
    "extracted_dir = 'data'\n",
    "\n",
    "# Extract files from the ZIP archive\n",
    "with zipfile.ZipFile(zip_file_path, 'r') as zip_ref:\n",
    "    zip_ref.extractall(extracted_dir)\n",
    "\n",
    "# Confirm that the files have been extracted\n",
    "os.listdir(extracted_dir)"
   ]
  },
  {
   "cell_type": "markdown",
   "id": "ec145510-61fa-4a81-909d-a8249b74fa60",
   "metadata": {
    "id": "ec145510-61fa-4a81-909d-a8249b74fa60"
   },
   "source": [
    "### Environment preparation"
   ]
  },
  {
   "cell_type": "code",
   "execution_count": 62,
   "id": "52c105ab-f38f-40a3-8ddc-012337c46e36",
   "metadata": {
    "executionInfo": {
     "elapsed": 303,
     "status": "ok",
     "timestamp": 1702845003586,
     "user": {
      "displayName": "No “NoEM” EM",
      "userId": "18134362320568151074"
     },
     "user_tz": -60
    },
    "id": "52c105ab-f38f-40a3-8ddc-012337c46e36"
   },
   "outputs": [],
   "source": [
    "import warnings\n",
    "warnings.filterwarnings(\"ignore\")\n",
    "\n",
    "import pandas as pd\n",
    "import numpy as np\n",
    "import seaborn as sns\n",
    "import matplotlib.pyplot as plt\n",
    "\n",
    "from sklearn.model_selection import train_test_split\n",
    "from sklearn.model_selection import cross_val_score, GridSearchCV\n",
    "\n",
    "from sklearn.metrics import accuracy_score, classification_report, confusion_matrix, roc_auc_score, precision_score, recall_score\n",
    "from sklearn.metrics import mean_squared_error, r2_score, f1_score\n",
    "\n",
    "from sklearn.linear_model import LogisticRegression\n",
    "from sklearn.ensemble import RandomForestClassifier\n",
    "from sklearn.svm import SVC\n",
    "from sklearn.naive_bayes import GaussianNB\n",
    "from sklearn.neighbors import KNeighborsClassifier\n",
    "import xgboost as xgb\n",
    "from xgboost import XGBClassifier\n",
    "\n",
    "from itertools import product"
   ]
  },
  {
   "cell_type": "markdown",
   "id": "0233c82a-1ee5-42ca-aad3-7aebe6786f26",
   "metadata": {
    "id": "0233c82a-1ee5-42ca-aad3-7aebe6786f26"
   },
   "source": [
    "### Loading a dataset"
   ]
  },
  {
   "cell_type": "code",
   "execution_count": 2,
   "id": "ed9c374f-da4e-4b2d-8ed5-c78e4766335b",
   "metadata": {
    "colab": {
     "base_uri": "https://localhost:8080/",
     "height": 415
    },
    "executionInfo": {
     "elapsed": 605,
     "status": "ok",
     "timestamp": 1702845006662,
     "user": {
      "displayName": "No “NoEM” EM",
      "userId": "18134362320568151074"
     },
     "user_tz": -60
    },
    "id": "ed9c374f-da4e-4b2d-8ed5-c78e4766335b",
    "outputId": "632ad801-303c-4c9c-8ab2-833cf30fd6b3"
   },
   "outputs": [
    {
     "data": {
      "text/html": [
       "<div>\n",
       "<style scoped>\n",
       "    .dataframe tbody tr th:only-of-type {\n",
       "        vertical-align: middle;\n",
       "    }\n",
       "\n",
       "    .dataframe tbody tr th {\n",
       "        vertical-align: top;\n",
       "    }\n",
       "\n",
       "    .dataframe thead th {\n",
       "        text-align: right;\n",
       "    }\n",
       "</style>\n",
       "<table border=\"1\" class=\"dataframe\">\n",
       "  <thead>\n",
       "    <tr style=\"text-align: right;\">\n",
       "      <th></th>\n",
       "      <th>ph</th>\n",
       "      <th>Hardness</th>\n",
       "      <th>Solids</th>\n",
       "      <th>Chloramines</th>\n",
       "      <th>Sulfate</th>\n",
       "      <th>Conductivity</th>\n",
       "      <th>Organic_carbon</th>\n",
       "      <th>Trihalomethanes</th>\n",
       "      <th>Turbidity</th>\n",
       "      <th>Potability</th>\n",
       "    </tr>\n",
       "  </thead>\n",
       "  <tbody>\n",
       "    <tr>\n",
       "      <th>0</th>\n",
       "      <td>NaN</td>\n",
       "      <td>204.890455</td>\n",
       "      <td>20791.318981</td>\n",
       "      <td>7.300212</td>\n",
       "      <td>368.516441</td>\n",
       "      <td>564.308654</td>\n",
       "      <td>10.379783</td>\n",
       "      <td>86.990970</td>\n",
       "      <td>2.963135</td>\n",
       "      <td>0</td>\n",
       "    </tr>\n",
       "    <tr>\n",
       "      <th>1</th>\n",
       "      <td>3.716080</td>\n",
       "      <td>129.422921</td>\n",
       "      <td>18630.057858</td>\n",
       "      <td>6.635246</td>\n",
       "      <td>NaN</td>\n",
       "      <td>592.885359</td>\n",
       "      <td>15.180013</td>\n",
       "      <td>56.329076</td>\n",
       "      <td>4.500656</td>\n",
       "      <td>0</td>\n",
       "    </tr>\n",
       "    <tr>\n",
       "      <th>2</th>\n",
       "      <td>8.099124</td>\n",
       "      <td>224.236259</td>\n",
       "      <td>19909.541732</td>\n",
       "      <td>9.275884</td>\n",
       "      <td>NaN</td>\n",
       "      <td>418.606213</td>\n",
       "      <td>16.868637</td>\n",
       "      <td>66.420093</td>\n",
       "      <td>3.055934</td>\n",
       "      <td>0</td>\n",
       "    </tr>\n",
       "    <tr>\n",
       "      <th>3</th>\n",
       "      <td>8.316766</td>\n",
       "      <td>214.373394</td>\n",
       "      <td>22018.417441</td>\n",
       "      <td>8.059332</td>\n",
       "      <td>356.886136</td>\n",
       "      <td>363.266516</td>\n",
       "      <td>18.436524</td>\n",
       "      <td>100.341674</td>\n",
       "      <td>4.628771</td>\n",
       "      <td>0</td>\n",
       "    </tr>\n",
       "    <tr>\n",
       "      <th>4</th>\n",
       "      <td>9.092223</td>\n",
       "      <td>181.101509</td>\n",
       "      <td>17978.986339</td>\n",
       "      <td>6.546600</td>\n",
       "      <td>310.135738</td>\n",
       "      <td>398.410813</td>\n",
       "      <td>11.558279</td>\n",
       "      <td>31.997993</td>\n",
       "      <td>4.075075</td>\n",
       "      <td>0</td>\n",
       "    </tr>\n",
       "  </tbody>\n",
       "</table>\n",
       "</div>"
      ],
      "text/plain": [
       "         ph    Hardness        Solids  Chloramines     Sulfate  Conductivity  \\\n",
       "0       NaN  204.890455  20791.318981     7.300212  368.516441    564.308654   \n",
       "1  3.716080  129.422921  18630.057858     6.635246         NaN    592.885359   \n",
       "2  8.099124  224.236259  19909.541732     9.275884         NaN    418.606213   \n",
       "3  8.316766  214.373394  22018.417441     8.059332  356.886136    363.266516   \n",
       "4  9.092223  181.101509  17978.986339     6.546600  310.135738    398.410813   \n",
       "\n",
       "   Organic_carbon  Trihalomethanes  Turbidity  Potability  \n",
       "0       10.379783        86.990970   2.963135           0  \n",
       "1       15.180013        56.329076   4.500656           0  \n",
       "2       16.868637        66.420093   3.055934           0  \n",
       "3       18.436524       100.341674   4.628771           0  \n",
       "4       11.558279        31.997993   4.075075           0  "
      ]
     },
     "metadata": {},
     "output_type": "display_data"
    },
    {
     "data": {
      "text/html": [
       "<div>\n",
       "<style scoped>\n",
       "    .dataframe tbody tr th:only-of-type {\n",
       "        vertical-align: middle;\n",
       "    }\n",
       "\n",
       "    .dataframe tbody tr th {\n",
       "        vertical-align: top;\n",
       "    }\n",
       "\n",
       "    .dataframe thead th {\n",
       "        text-align: right;\n",
       "    }\n",
       "</style>\n",
       "<table border=\"1\" class=\"dataframe\">\n",
       "  <thead>\n",
       "    <tr style=\"text-align: right;\">\n",
       "      <th></th>\n",
       "      <th>ph</th>\n",
       "      <th>Hardness</th>\n",
       "      <th>Solids</th>\n",
       "      <th>Chloramines</th>\n",
       "      <th>Sulfate</th>\n",
       "      <th>Conductivity</th>\n",
       "      <th>Organic_carbon</th>\n",
       "      <th>Trihalomethanes</th>\n",
       "      <th>Turbidity</th>\n",
       "      <th>Potability</th>\n",
       "    </tr>\n",
       "  </thead>\n",
       "  <tbody>\n",
       "    <tr>\n",
       "      <th>3271</th>\n",
       "      <td>4.668102</td>\n",
       "      <td>193.681735</td>\n",
       "      <td>47580.991603</td>\n",
       "      <td>7.166639</td>\n",
       "      <td>359.948574</td>\n",
       "      <td>526.424171</td>\n",
       "      <td>13.894419</td>\n",
       "      <td>66.687695</td>\n",
       "      <td>4.435821</td>\n",
       "      <td>1</td>\n",
       "    </tr>\n",
       "    <tr>\n",
       "      <th>3272</th>\n",
       "      <td>7.808856</td>\n",
       "      <td>193.553212</td>\n",
       "      <td>17329.802160</td>\n",
       "      <td>8.061362</td>\n",
       "      <td>NaN</td>\n",
       "      <td>392.449580</td>\n",
       "      <td>19.903225</td>\n",
       "      <td>NaN</td>\n",
       "      <td>2.798243</td>\n",
       "      <td>1</td>\n",
       "    </tr>\n",
       "    <tr>\n",
       "      <th>3273</th>\n",
       "      <td>9.419510</td>\n",
       "      <td>175.762646</td>\n",
       "      <td>33155.578218</td>\n",
       "      <td>7.350233</td>\n",
       "      <td>NaN</td>\n",
       "      <td>432.044783</td>\n",
       "      <td>11.039070</td>\n",
       "      <td>69.845400</td>\n",
       "      <td>3.298875</td>\n",
       "      <td>1</td>\n",
       "    </tr>\n",
       "    <tr>\n",
       "      <th>3274</th>\n",
       "      <td>5.126763</td>\n",
       "      <td>230.603758</td>\n",
       "      <td>11983.869376</td>\n",
       "      <td>6.303357</td>\n",
       "      <td>NaN</td>\n",
       "      <td>402.883113</td>\n",
       "      <td>11.168946</td>\n",
       "      <td>77.488213</td>\n",
       "      <td>4.708658</td>\n",
       "      <td>1</td>\n",
       "    </tr>\n",
       "    <tr>\n",
       "      <th>3275</th>\n",
       "      <td>7.874671</td>\n",
       "      <td>195.102299</td>\n",
       "      <td>17404.177061</td>\n",
       "      <td>7.509306</td>\n",
       "      <td>NaN</td>\n",
       "      <td>327.459760</td>\n",
       "      <td>16.140368</td>\n",
       "      <td>78.698446</td>\n",
       "      <td>2.309149</td>\n",
       "      <td>1</td>\n",
       "    </tr>\n",
       "  </tbody>\n",
       "</table>\n",
       "</div>"
      ],
      "text/plain": [
       "            ph    Hardness        Solids  Chloramines     Sulfate  \\\n",
       "3271  4.668102  193.681735  47580.991603     7.166639  359.948574   \n",
       "3272  7.808856  193.553212  17329.802160     8.061362         NaN   \n",
       "3273  9.419510  175.762646  33155.578218     7.350233         NaN   \n",
       "3274  5.126763  230.603758  11983.869376     6.303357         NaN   \n",
       "3275  7.874671  195.102299  17404.177061     7.509306         NaN   \n",
       "\n",
       "      Conductivity  Organic_carbon  Trihalomethanes  Turbidity  Potability  \n",
       "3271    526.424171       13.894419        66.687695   4.435821           1  \n",
       "3272    392.449580       19.903225              NaN   2.798243           1  \n",
       "3273    432.044783       11.039070        69.845400   3.298875           1  \n",
       "3274    402.883113       11.168946        77.488213   4.708658           1  \n",
       "3275    327.459760       16.140368        78.698446   2.309149           1  "
      ]
     },
     "metadata": {},
     "output_type": "display_data"
    }
   ],
   "source": [
    "# Read the CSV file into a DataFrame\n",
    "df_init = pd.read_csv('data/water_potability.csv')\n",
    "\n",
    "# Display the first few rows of the DataFrame\n",
    "display(df_init.head(2))\n",
    "\n",
    "# Display the last few rows of the DataFrame\n",
    "display(df_init.tail(2))"
   ]
  },
  {
   "cell_type": "markdown",
   "id": "fa55af5c-08b7-4fea-b784-24d145e7ee69",
   "metadata": {},
   "source": [
    "#### Basic data information "
   ]
  },
  {
   "cell_type": "markdown",
   "id": "SvwkrNDwKEGZ",
   "metadata": {
    "id": "SvwkrNDwKEGZ"
   },
   "source": [
    "1. pH value: PH is an important parameter in evaluating the acid–base balance of water. It is also the indicator of acidic or alkaline condition of water status. WHO has recommended maximum permissible limit of pH from 6.5 to 8.5. The current investigation ranges were 6.52–6.83 which are in the range of WHO standards.\n",
    "\n",
    "2. Hardness: Hardness is mainly caused by calcium and magnesium salts. These salts are dissolved from geologic deposits through which water travels. The length of time water is in contact with hardness producing material helps determine how much hardness there is in raw water. Hardness was originally defined as the capacity of water to precipitate soap caused by Calcium and Magnesium.\n",
    "\n",
    "3. Solids (Total dissolved solids - TDS): Water has the ability to dissolve a wide range of inorganic and some organic minerals or salts such as potassium, calcium, sodium, bicarbonates, chlorides, magnesium, sulfates etc. These minerals produced un-wanted taste and diluted color in appearance of water. This is the important parameter for the use of water. The water with high TDS value indicates that water is highly mineralized. Desirable limit for TDS is 500 mg/l and maximum limit is 1000 mg/l which prescribed for drinking purpose.\n",
    "\n",
    "4. Chloramines: Chlorine and chloramine are the major disinfectants used in public water systems. Chloramines are most commonly formed when ammonia is added to chlorine to treat drinking water. Chlorine levels up to 4 milligrams per liter (mg/L or 4 parts per million (ppm)) are considered safe in drinking water.\n",
    "\n",
    "5. Sulfate: Sulfates are naturally occurring substances that are found in minerals, soil, and rocks. They are present in ambient air, groundwater, plants, and food. The principal commercial use of sulfate is in the chemical industry. Sulfate concentration in seawater is about 2,700 milligrams per liter (mg/L). It ranges from 3 to 30 mg/L in most freshwater supplies, although much higher concentrations (1000 mg/L) are found in some geographic locations.\n",
    "\n",
    "6. Conductivity: Pure water is not a good conductor of electric current rather’s a good insulator. Increase in ions concentration enhances the electrical conductivity of water. Generally, the amount of dissolved solids in water determines the electrical conductivity. Electrical conductivity (EC) actually measures the ionic process of a solution that enables it to transmit current. According to WHO standards, EC value should not exceeded 400 μS/cm.\n",
    "\n",
    "7. Organic_carbon: Total Organic Carbon (TOC) in source waters comes from decaying natural organic matter (NOM) as well as synthetic sources. TOC is a measure of the total amount of carbon in organic compounds in pure water. According to US EPA < 2 mg/L as TOC in treated / drinking water, and < 4 mg/Lit in source water which is use for treatment.\n",
    "\n",
    "8. Trihalomethanes: THMs are chemicals which may be found in water treated with chlorine. The concentration of THMs in drinking water varies according to the level of organic material in the water, the amount of chlorine required to treat the water, and the temperature of the water that is being treated. THM levels up to 80 ppm is considered safe in drinking water.\n",
    "\n",
    "9. Turbidity: The turbidity of water depends on the quantity of solid matter present in the suspended state. It is a measure of light emitting properties of water and the test is used to indicate the quality of waste discharge with respect to colloidal matter. The mean turbidity value obtained for Wondo Genet Campus (0.98 NTU) is lower than the WHO recommended value of 5.00 NTU.\n",
    "\n",
    "10. Potability: Indicates if water is safe for human consumption where 1 means Potable and 0 means Not potable.\n"
   ]
  },
  {
   "cell_type": "code",
   "execution_count": 3,
   "id": "1551d8b8-2cf6-4894-80e3-7280c0cd25ee",
   "metadata": {
    "executionInfo": {
     "elapsed": 540,
     "status": "ok",
     "timestamp": 1702845010791,
     "user": {
      "displayName": "No “NoEM” EM",
      "userId": "18134362320568151074"
     },
     "user_tz": -60
    },
    "id": "1551d8b8-2cf6-4894-80e3-7280c0cd25ee"
   },
   "outputs": [],
   "source": [
    "# Create a copy of the DataFrame\n",
    "df = df_init.copy()"
   ]
  },
  {
   "cell_type": "code",
   "execution_count": 4,
   "id": "059c7799-b51d-4e41-866c-c3f93b24e1ae",
   "metadata": {
    "executionInfo": {
     "elapsed": 269,
     "status": "ok",
     "timestamp": 1702845013021,
     "user": {
      "displayName": "No “NoEM” EM",
      "userId": "18134362320568151074"
     },
     "user_tz": -60
    },
    "id": "059c7799-b51d-4e41-866c-c3f93b24e1ae"
   },
   "outputs": [],
   "source": [
    "# Converting string columns to lowercase and replacing spaces with underscores\n",
    "df.columns = df.columns.str.replace(' ', '_').str.lower()"
   ]
  },
  {
   "cell_type": "code",
   "execution_count": 5,
   "id": "e72K5H8oXu11",
   "metadata": {
    "colab": {
     "base_uri": "https://localhost:8080/"
    },
    "executionInfo": {
     "elapsed": 6,
     "status": "ok",
     "timestamp": 1702845016110,
     "user": {
      "displayName": "No “NoEM” EM",
      "userId": "18134362320568151074"
     },
     "user_tz": -60
    },
    "id": "e72K5H8oXu11",
    "outputId": "05342296-bef3-4c9c-b6ee-0360e18475e6"
   },
   "outputs": [
    {
     "data": {
      "text/plain": [
       "['ph',\n",
       " 'hardness',\n",
       " 'solids',\n",
       " 'chloramines',\n",
       " 'sulfate',\n",
       " 'conductivity',\n",
       " 'organic_carbon',\n",
       " 'trihalomethanes',\n",
       " 'turbidity',\n",
       " 'potability']"
      ]
     },
     "execution_count": 5,
     "metadata": {},
     "output_type": "execute_result"
    }
   ],
   "source": [
    "# Retrieve the column names of the DataFrame and convert them to a Python list\n",
    "df.columns.values.tolist()"
   ]
  },
  {
   "cell_type": "code",
   "execution_count": 6,
   "id": "6a15b9af-6b44-485b-af1a-4979dd94a7af",
   "metadata": {
    "colab": {
     "base_uri": "https://localhost:8080/"
    },
    "executionInfo": {
     "elapsed": 294,
     "status": "ok",
     "timestamp": 1702845018579,
     "user": {
      "displayName": "No “NoEM” EM",
      "userId": "18134362320568151074"
     },
     "user_tz": -60
    },
    "id": "6a15b9af-6b44-485b-af1a-4979dd94a7af",
    "outputId": "b353133a-e9f9-47ce-d076-18862085ad1c"
   },
   "outputs": [
    {
     "name": "stdout",
     "output_type": "stream",
     "text": [
      "<class 'pandas.core.frame.DataFrame'>\n",
      "RangeIndex: 3276 entries, 0 to 3275\n",
      "Data columns (total 10 columns):\n",
      " #   Column           Non-Null Count  Dtype  \n",
      "---  ------           --------------  -----  \n",
      " 0   ph               2785 non-null   float64\n",
      " 1   hardness         3276 non-null   float64\n",
      " 2   solids           3276 non-null   float64\n",
      " 3   chloramines      3276 non-null   float64\n",
      " 4   sulfate          2495 non-null   float64\n",
      " 5   conductivity     3276 non-null   float64\n",
      " 6   organic_carbon   3276 non-null   float64\n",
      " 7   trihalomethanes  3114 non-null   float64\n",
      " 8   turbidity        3276 non-null   float64\n",
      " 9   potability       3276 non-null   int64  \n",
      "dtypes: float64(9), int64(1)\n",
      "memory usage: 256.1 KB\n"
     ]
    }
   ],
   "source": [
    "df.info()"
   ]
  },
  {
   "cell_type": "code",
   "execution_count": 7,
   "id": "11f6184a-ab03-463f-bdc5-84b7ed277eff",
   "metadata": {
    "colab": {
     "base_uri": "https://localhost:8080/"
    },
    "executionInfo": {
     "elapsed": 4,
     "status": "ok",
     "timestamp": 1702845021205,
     "user": {
      "displayName": "No “NoEM” EM",
      "userId": "18134362320568151074"
     },
     "user_tz": -60
    },
    "id": "11f6184a-ab03-463f-bdc5-84b7ed277eff",
    "outputId": "1914ded1-4e2d-4e43-b6eb-c1dc87ffc096"
   },
   "outputs": [
    {
     "data": {
      "text/plain": [
       "(3276, 10)"
      ]
     },
     "execution_count": 7,
     "metadata": {},
     "output_type": "execute_result"
    }
   ],
   "source": [
    "df.shape"
   ]
  },
  {
   "cell_type": "code",
   "execution_count": 8,
   "id": "0d4d4db7-ee89-40e7-89cd-75ef6e8732ba",
   "metadata": {
    "colab": {
     "base_uri": "https://localhost:8080/"
    },
    "executionInfo": {
     "elapsed": 265,
     "status": "ok",
     "timestamp": 1702845025221,
     "user": {
      "displayName": "No “NoEM” EM",
      "userId": "18134362320568151074"
     },
     "user_tz": -60
    },
    "id": "0d4d4db7-ee89-40e7-89cd-75ef6e8732ba",
    "outputId": "88651eee-c0e3-41d6-cf03-c4d1c178d417"
   },
   "outputs": [
    {
     "data": {
      "text/plain": [
       "0"
      ]
     },
     "execution_count": 8,
     "metadata": {},
     "output_type": "execute_result"
    }
   ],
   "source": [
    "df.duplicated().sum()"
   ]
  },
  {
   "cell_type": "code",
   "execution_count": 9,
   "id": "18432f88-f5af-482d-955c-93a4a7545f13",
   "metadata": {
    "colab": {
     "base_uri": "https://localhost:8080/",
     "height": 383
    },
    "executionInfo": {
     "elapsed": 8,
     "status": "ok",
     "timestamp": 1702845027347,
     "user": {
      "displayName": "No “NoEM” EM",
      "userId": "18134362320568151074"
     },
     "user_tz": -60
    },
    "id": "18432f88-f5af-482d-955c-93a4a7545f13",
    "outputId": "0b4ed029-434d-4e54-dd11-9a35de29bd88"
   },
   "outputs": [
    {
     "data": {
      "text/html": [
       "<div>\n",
       "<style scoped>\n",
       "    .dataframe tbody tr th:only-of-type {\n",
       "        vertical-align: middle;\n",
       "    }\n",
       "\n",
       "    .dataframe tbody tr th {\n",
       "        vertical-align: top;\n",
       "    }\n",
       "\n",
       "    .dataframe thead th {\n",
       "        text-align: right;\n",
       "    }\n",
       "</style>\n",
       "<table border=\"1\" class=\"dataframe\">\n",
       "  <thead>\n",
       "    <tr style=\"text-align: right;\">\n",
       "      <th></th>\n",
       "      <th>count</th>\n",
       "      <th>mean</th>\n",
       "      <th>std</th>\n",
       "      <th>min</th>\n",
       "      <th>25%</th>\n",
       "      <th>50%</th>\n",
       "      <th>75%</th>\n",
       "      <th>max</th>\n",
       "    </tr>\n",
       "  </thead>\n",
       "  <tbody>\n",
       "    <tr>\n",
       "      <th>ph</th>\n",
       "      <td>2785.0</td>\n",
       "      <td>7.080795</td>\n",
       "      <td>1.594320</td>\n",
       "      <td>0.000000</td>\n",
       "      <td>6.093092</td>\n",
       "      <td>7.036752</td>\n",
       "      <td>8.062066</td>\n",
       "      <td>14.000000</td>\n",
       "    </tr>\n",
       "    <tr>\n",
       "      <th>hardness</th>\n",
       "      <td>3276.0</td>\n",
       "      <td>196.369496</td>\n",
       "      <td>32.879761</td>\n",
       "      <td>47.432000</td>\n",
       "      <td>176.850538</td>\n",
       "      <td>196.967627</td>\n",
       "      <td>216.667456</td>\n",
       "      <td>323.124000</td>\n",
       "    </tr>\n",
       "    <tr>\n",
       "      <th>solids</th>\n",
       "      <td>3276.0</td>\n",
       "      <td>22014.092526</td>\n",
       "      <td>8768.570828</td>\n",
       "      <td>320.942611</td>\n",
       "      <td>15666.690297</td>\n",
       "      <td>20927.833607</td>\n",
       "      <td>27332.762127</td>\n",
       "      <td>61227.196008</td>\n",
       "    </tr>\n",
       "    <tr>\n",
       "      <th>chloramines</th>\n",
       "      <td>3276.0</td>\n",
       "      <td>7.122277</td>\n",
       "      <td>1.583085</td>\n",
       "      <td>0.352000</td>\n",
       "      <td>6.127421</td>\n",
       "      <td>7.130299</td>\n",
       "      <td>8.114887</td>\n",
       "      <td>13.127000</td>\n",
       "    </tr>\n",
       "    <tr>\n",
       "      <th>sulfate</th>\n",
       "      <td>2495.0</td>\n",
       "      <td>333.775777</td>\n",
       "      <td>41.416840</td>\n",
       "      <td>129.000000</td>\n",
       "      <td>307.699498</td>\n",
       "      <td>333.073546</td>\n",
       "      <td>359.950170</td>\n",
       "      <td>481.030642</td>\n",
       "    </tr>\n",
       "    <tr>\n",
       "      <th>conductivity</th>\n",
       "      <td>3276.0</td>\n",
       "      <td>426.205111</td>\n",
       "      <td>80.824064</td>\n",
       "      <td>181.483754</td>\n",
       "      <td>365.734414</td>\n",
       "      <td>421.884968</td>\n",
       "      <td>481.792304</td>\n",
       "      <td>753.342620</td>\n",
       "    </tr>\n",
       "    <tr>\n",
       "      <th>organic_carbon</th>\n",
       "      <td>3276.0</td>\n",
       "      <td>14.284970</td>\n",
       "      <td>3.308162</td>\n",
       "      <td>2.200000</td>\n",
       "      <td>12.065801</td>\n",
       "      <td>14.218338</td>\n",
       "      <td>16.557652</td>\n",
       "      <td>28.300000</td>\n",
       "    </tr>\n",
       "    <tr>\n",
       "      <th>trihalomethanes</th>\n",
       "      <td>3114.0</td>\n",
       "      <td>66.396293</td>\n",
       "      <td>16.175008</td>\n",
       "      <td>0.738000</td>\n",
       "      <td>55.844536</td>\n",
       "      <td>66.622485</td>\n",
       "      <td>77.337473</td>\n",
       "      <td>124.000000</td>\n",
       "    </tr>\n",
       "    <tr>\n",
       "      <th>turbidity</th>\n",
       "      <td>3276.0</td>\n",
       "      <td>3.966786</td>\n",
       "      <td>0.780382</td>\n",
       "      <td>1.450000</td>\n",
       "      <td>3.439711</td>\n",
       "      <td>3.955028</td>\n",
       "      <td>4.500320</td>\n",
       "      <td>6.739000</td>\n",
       "    </tr>\n",
       "    <tr>\n",
       "      <th>potability</th>\n",
       "      <td>3276.0</td>\n",
       "      <td>0.390110</td>\n",
       "      <td>0.487849</td>\n",
       "      <td>0.000000</td>\n",
       "      <td>0.000000</td>\n",
       "      <td>0.000000</td>\n",
       "      <td>1.000000</td>\n",
       "      <td>1.000000</td>\n",
       "    </tr>\n",
       "  </tbody>\n",
       "</table>\n",
       "</div>"
      ],
      "text/plain": [
       "                  count          mean          std         min           25%  \\\n",
       "ph               2785.0      7.080795     1.594320    0.000000      6.093092   \n",
       "hardness         3276.0    196.369496    32.879761   47.432000    176.850538   \n",
       "solids           3276.0  22014.092526  8768.570828  320.942611  15666.690297   \n",
       "chloramines      3276.0      7.122277     1.583085    0.352000      6.127421   \n",
       "sulfate          2495.0    333.775777    41.416840  129.000000    307.699498   \n",
       "conductivity     3276.0    426.205111    80.824064  181.483754    365.734414   \n",
       "organic_carbon   3276.0     14.284970     3.308162    2.200000     12.065801   \n",
       "trihalomethanes  3114.0     66.396293    16.175008    0.738000     55.844536   \n",
       "turbidity        3276.0      3.966786     0.780382    1.450000      3.439711   \n",
       "potability       3276.0      0.390110     0.487849    0.000000      0.000000   \n",
       "\n",
       "                          50%           75%           max  \n",
       "ph                   7.036752      8.062066     14.000000  \n",
       "hardness           196.967627    216.667456    323.124000  \n",
       "solids           20927.833607  27332.762127  61227.196008  \n",
       "chloramines          7.130299      8.114887     13.127000  \n",
       "sulfate            333.073546    359.950170    481.030642  \n",
       "conductivity       421.884968    481.792304    753.342620  \n",
       "organic_carbon      14.218338     16.557652     28.300000  \n",
       "trihalomethanes     66.622485     77.337473    124.000000  \n",
       "turbidity            3.955028      4.500320      6.739000  \n",
       "potability           0.000000      1.000000      1.000000  "
      ]
     },
     "execution_count": 9,
     "metadata": {},
     "output_type": "execute_result"
    }
   ],
   "source": [
    "df.describe().T"
   ]
  },
  {
   "cell_type": "code",
   "execution_count": 10,
   "id": "8ffaf5bc-4f40-430d-896c-3fe032dc43e8",
   "metadata": {
    "colab": {
     "base_uri": "https://localhost:8080/",
     "height": 734
    },
    "executionInfo": {
     "elapsed": 1171,
     "status": "ok",
     "timestamp": 1702845030231,
     "user": {
      "displayName": "No “NoEM” EM",
      "userId": "18134362320568151074"
     },
     "user_tz": -60
    },
    "id": "8ffaf5bc-4f40-430d-896c-3fe032dc43e8",
    "outputId": "f1db5313-d7f3-452f-9c1e-ff7ffaec528e"
   },
   "outputs": [
    {
     "data": {
      "image/png": "[encoded data removed]",
      "text/plain": [
       "<Figure size 640x480 with 1 Axes>"
      ]
     },
     "metadata": {},
     "output_type": "display_data"
    },
    {
     "name": "stdout",
     "output_type": "stream",
     "text": [
      "                 Missing Count Missing Percent\n",
      "ph                         491          14.99%\n",
      "hardness                     0           0.00%\n",
      "solids                       0           0.00%\n",
      "chloramines                  0           0.00%\n",
      "sulfate                    781          23.84%\n",
      "conductivity                 0           0.00%\n",
      "organic_carbon               0           0.00%\n",
      "trihalomethanes            162           4.95%\n",
      "turbidity                    0           0.00%\n",
      "potability                   0           0.00%\n"
     ]
    }
   ],
   "source": [
    "def display_missing_data_info(df):\n",
    "    # Oblicz ilość brakujących danych\n",
    "    missing_count = df.isnull().sum()\n",
    "\n",
    "    # Oblicz procentowy udział brakujących danych\n",
    "    missing_percent = df.isnull().sum() * 100 / len(df)\n",
    "\n",
    "    percent_missing_rounded = missing_percent.round(2)  # Zaokrąglenie do dwóch miejsc po przecinku\n",
    "\n",
    "    # Wyświetlanie w formacie procentowym\n",
    "    formatted_percent_missing = percent_missing_rounded.apply(lambda x: f\"{x:.2f}%\")\n",
    "\n",
    "    # Połącz obie informacje w jedną ramkę danych\n",
    "    missing_info = pd.concat([missing_count, formatted_percent_missing], axis=1)\n",
    "    missing_info.columns = ['Missing Count', 'Missing Percent']\n",
    "\n",
    "    # Wizualizacja brakujących danych\n",
    "    sns.heatmap(df.isnull(), cbar=False)\n",
    "    plt.show()\n",
    "\n",
    "    # Wyświetl tabelę z ilością i procentem brakujących danych\n",
    "    print(missing_info)\n",
    "\n",
    "# Przykład użycia funkcji na ramce danych df\n",
    "display_missing_data_info(df)"
   ]
  },
  {
   "cell_type": "markdown",
   "id": "onOngNkc7cNI",
   "metadata": {
    "id": "onOngNkc7cNI"
   },
   "source": [
    "Uzupełnianie danych *ph*"
   ]
  },
  {
   "cell_type": "code",
   "execution_count": 11,
   "id": "oKlOU3TK08zO",
   "metadata": {
    "colab": {
     "base_uri": "https://localhost:8080/"
    },
    "executionInfo": {
     "elapsed": 267,
     "status": "ok",
     "timestamp": 1702845033704,
     "user": {
      "displayName": "No “NoEM” EM",
      "userId": "18134362320568151074"
     },
     "user_tz": -60
    },
    "id": "oKlOU3TK08zO",
    "outputId": "da76b082-8ed5-4ce6-b96e-0be01ea19b10"
   },
   "outputs": [
    {
     "name": "stdout",
     "output_type": "stream",
     "text": [
      "                         American unit CaCO3 mg/l(ppm)\n",
      "Very soft                                       0 – 89\n",
      "Soft                                          89 – 179\n",
      "Medium hardness                              179 – 268\n",
      "Of considerable hardness                     268 – 357\n",
      "Hard                                         357 – 535\n",
      "Very hard                                    535 – inf\n"
     ]
    }
   ],
   "source": [
    "# Definicja zakresów twardości w jednostkach amerykańskich\n",
    "hardness_ranges = {\n",
    "    'Very soft': (0, 89),\n",
    "    'Soft': (89, 179),\n",
    "    'Medium hardness': (179, 268),\n",
    "    'Of considerable hardness': (268, 357),\n",
    "    'Hard': (357, 535),\n",
    "    'Very hard': (535, float('inf'))\n",
    "}\n",
    "\n",
    "# Tworzenie DataFrame\n",
    "data = {'American unit CaCO3 mg/l(ppm)': []}\n",
    "\n",
    "for water_type, (lower, upper) in hardness_ranges.items():\n",
    "    data['American unit CaCO3 mg/l(ppm)'].append(f\"{lower} – {upper}\")\n",
    "\n",
    "df_hardness_ranges = pd.DataFrame(data, index=hardness_ranges.keys())\n",
    "\n",
    "# Wyświetlanie utworzonego DataFrame\n",
    "print(df_hardness_ranges)"
   ]
  },
  {
   "cell_type": "code",
   "execution_count": 12,
   "id": "yOkNheL7ClRp",
   "metadata": {
    "colab": {
     "base_uri": "https://localhost:8080/"
    },
    "executionInfo": {
     "elapsed": 296,
     "status": "ok",
     "timestamp": 1702845038271,
     "user": {
      "displayName": "No “NoEM” EM",
      "userId": "18134362320568151074"
     },
     "user_tz": -60
    },
    "id": "yOkNheL7ClRp",
    "outputId": "af777f02-6f20-40d6-b4a8-0399f5c3c9d9"
   },
   "outputs": [
    {
     "name": "stdout",
     "output_type": "stream",
     "text": [
      "Średnia wartość 'ph' dla każdej kategorii 'hardness' i 'potability':\n",
      "hardness_category  Below 179  Above 179\n",
      "potability                             \n",
      "0                   6.810854   7.185792\n",
      "1                   7.047832   7.084045\n"
     ]
    }
   ],
   "source": [
    "# Ustawienie progu twardości wody\n",
    "hardness_threshold = 179\n",
    "\n",
    "# Podział danych na dwie kategorie 'hardness' (poniżej 179 i powyżej 179)\n",
    "df['hardness_category'] = pd.cut(df['hardness'], bins=[-float('inf'), hardness_threshold, float('inf')],\n",
    "                                 labels=['Below 179', 'Above 179'])\n",
    "\n",
    "# Obliczenie średniej dla każdej kategorii 'hardness' i 'potability'\n",
    "average_ph_by_category = df.groupby(['potability', 'hardness_category'])['ph'].mean().unstack()\n",
    "\n",
    "# Wyświetlenie wyników\n",
    "print(\"Średnia wartość 'ph' dla każdej kategorii 'hardness' i 'potability':\")\n",
    "print(average_ph_by_category)"
   ]
  },
  {
   "cell_type": "code",
   "execution_count": 13,
   "id": "kJCXFBanZP9l",
   "metadata": {
    "executionInfo": {
     "elapsed": 326,
     "status": "ok",
     "timestamp": 1702845041536,
     "user": {
      "displayName": "No “NoEM” EM",
      "userId": "18134362320568151074"
     },
     "user_tz": -60
    },
    "id": "kJCXFBanZP9l"
   },
   "outputs": [],
   "source": [
    "def fill_missing_data_ph(df):\n",
    "    # Utworzenie df_mean jako kopii oryginalnego DataFrame\n",
    "    df_mean_fill = df.copy()\n",
    "\n",
    "    # Podział danych na kategorie 'hardness_threshold'\n",
    "    df_mean_fill['hardness_threshold'] = pd.cut(df_mean_fill['hardness'], bins=[-float('inf'), 89, 179, 269, float('inf')],\n",
    "                                           labels=['Below 89', '90-179', '180-269', 'Above 268'])\n",
    "\n",
    "    # Warunki dla uzupełniania danych\n",
    "    condition_1 = (df_mean_fill['hardness_threshold'] == 'Below 89') & (df_mean_fill['potability'] == 0)\n",
    "    condition_2 = (df_mean_fill['hardness_threshold'] == 'Below 89') & (df_mean_fill['potability'] == 1)\n",
    "    condition_3 = (df_mean_fill['hardness_threshold'] == '90-179') & (df_mean_fill['potability'] == 0)\n",
    "    condition_4 = (df_mean_fill['hardness_threshold'] == '90-179') & (df_mean_fill['potability'] == 1)\n",
    "    condition_5 = (df_mean_fill['hardness_threshold'] == '180-269') & (df_mean_fill['potability'] == 0)\n",
    "    condition_6 = (df_mean_fill['hardness_threshold'] == '180-269') & (df_mean_fill['potability'] == 1)\n",
    "    condition_7 = (df_mean_fill['hardness_threshold'] == 'Above 268') & (df_mean_fill['potability'] == 0)\n",
    "    condition_8 = (df_mean_fill['hardness_threshold'] == 'Above 268') & (df_mean_fill['potability'] == 1)\n",
    "\n",
    "    # Uzupełnienie danych w kolumnie 'ph' na podstawie warunków\n",
    "    df_mean_fill.loc[condition_1, 'ph'] = df_mean_fill.loc[condition_1, 'ph'].fillna(df_mean_fill.loc[condition_1, 'ph'].mean())\n",
    "    df_mean_fill.loc[condition_2, 'ph'] = df_mean_fill.loc[condition_2, 'ph'].fillna(df_mean_fill.loc[condition_2, 'ph'].mean())\n",
    "    df_mean_fill.loc[condition_3, 'ph'] = df_mean_fill.loc[condition_3, 'ph'].fillna(df_mean_fill.loc[condition_3, 'ph'].mean())\n",
    "    df_mean_fill.loc[condition_4, 'ph'] = df_mean_fill.loc[condition_4, 'ph'].fillna(df_mean_fill.loc[condition_4, 'ph'].mean())\n",
    "    df_mean_fill.loc[condition_5, 'ph'] = df_mean_fill.loc[condition_5, 'ph'].fillna(df_mean_fill.loc[condition_5, 'ph'].mean())\n",
    "    df_mean_fill.loc[condition_6, 'ph'] = df_mean_fill.loc[condition_6, 'ph'].fillna(df_mean_fill.loc[condition_6, 'ph'].mean())\n",
    "    df_mean_fill.loc[condition_7, 'ph'] = df_mean_fill.loc[condition_7, 'ph'].fillna(df_mean_fill.loc[condition_7, 'ph'].mean())\n",
    "    df_mean_fill.loc[condition_8, 'ph'] = df_mean_fill.loc[condition_8, 'ph'].fillna(df_mean_fill.loc[condition_8, 'ph'].mean())\n",
    "\n",
    "    return df_mean_fill"
   ]
  },
  {
   "cell_type": "code",
   "execution_count": 14,
   "id": "20UK3F_ZkkcK",
   "metadata": {
    "executionInfo": {
     "elapsed": 2,
     "status": "ok",
     "timestamp": 1702845044713,
     "user": {
      "displayName": "No “NoEM” EM",
      "userId": "18134362320568151074"
     },
     "user_tz": -60
    },
    "id": "20UK3F_ZkkcK"
   },
   "outputs": [],
   "source": [
    "# Utworzenie nowego zestawu uzupełnionymi danym jako śreedni ph na podstawie zakresów twardości wody\n",
    "df_mean = fill_missing_data_ph(df)"
   ]
  },
  {
   "cell_type": "code",
   "execution_count": 15,
   "id": "eYGXKsOHky1s",
   "metadata": {
    "colab": {
     "base_uri": "https://localhost:8080/"
    },
    "executionInfo": {
     "elapsed": 299,
     "status": "ok",
     "timestamp": 1702845047274,
     "user": {
      "displayName": "No “NoEM” EM",
      "userId": "18134362320568151074"
     },
     "user_tz": -60
    },
    "id": "eYGXKsOHky1s",
    "outputId": "1e361aca-9a8a-4789-a8a6-7df1167e163d"
   },
   "outputs": [
    {
     "name": "stdout",
     "output_type": "stream",
     "text": [
      "Średnia wartość 'ph' dla każdej kategorii 'hardness' i 'potability':\n",
      "hardness_category  Below 179  Above 179\n",
      "potability                             \n",
      "0                   6.810854   7.184008\n",
      "1                   7.039684   7.084732\n"
     ]
    }
   ],
   "source": [
    "# Ustawienie progu twardości wody\n",
    "hardness_threshold = 179\n",
    "\n",
    "# Podział danych na dwie kategorie 'hardness' (poniżej 179 i powyżej 179)\n",
    "df_mean['hardness_category'] = pd.cut(df_mean['hardness'], bins=[-float('inf'), hardness_threshold, float('inf')],\n",
    "                                 labels=['Below 179', 'Above 179'])\n",
    "\n",
    "# Obliczenie średniej dla każdej kategorii 'hardness' i 'potability'\n",
    "average_ph_by_category = df_mean.groupby(['potability', 'hardness_category'])['ph'].mean().unstack()\n",
    "\n",
    "# Wyświetlenie wyników\n",
    "print(\"Średnia wartość 'ph' dla każdej kategorii 'hardness' i 'potability':\")\n",
    "print(average_ph_by_category)"
   ]
  },
  {
   "cell_type": "markdown",
   "id": "s7aqFuJin0cT",
   "metadata": {
    "id": "s7aqFuJin0cT"
   },
   "source": [
    "Uzupełnianie danych *sulfate*"
   ]
  },
  {
   "cell_type": "code",
   "execution_count": 16,
   "id": "qCdI5GiUwMlN",
   "metadata": {
    "colab": {
     "base_uri": "https://localhost:8080/"
    },
    "executionInfo": {
     "elapsed": 287,
     "status": "ok",
     "timestamp": 1702845051045,
     "user": {
      "displayName": "No “NoEM” EM",
      "userId": "18134362320568151074"
     },
     "user_tz": -60
    },
    "id": "qCdI5GiUwMlN",
    "outputId": "27740a31-d2fa-4669-afc6-e3668ae891a7"
   },
   "outputs": [
    {
     "name": "stdout",
     "output_type": "stream",
     "text": [
      "Średnie stężenia siarczanów dla różnych kategorii potability, ph oraz ogólna średnia:\n",
      "ph_category  7 and Above     Below 7  Mean Sulfate\n",
      "potability                                        \n",
      "0             339.747017  328.421520     334.56429\n",
      "1             325.343724  340.946613     332.56699\n"
     ]
    }
   ],
   "source": [
    "def describe_sulfate_by_potability_and_ph(df):\n",
    "    # Dodanie kolumny ph_category\n",
    "    df['ph_category'] = np.where(df['ph'] < 7, 'Below 7', '7 and Above')\n",
    "\n",
    "    # Grupowanie danych\n",
    "    grouped_data = df.groupby(['potability', 'ph_category'])['sulfate'].mean().unstack()\n",
    "\n",
    "    # Dodanie średniej dla każdego zakresu stężenia siarczanów\n",
    "    grouped_data['Mean Sulfate'] = df.groupby('potability')['sulfate'].mean()\n",
    "\n",
    "    return grouped_data\n",
    "\n",
    "# Przykład użycia funkcji\n",
    "result = describe_sulfate_by_potability_and_ph(df_mean)\n",
    "print(\"Średnie stężenia siarczanów dla różnych kategorii potability, ph oraz ogólna średnia:\")\n",
    "print(result)"
   ]
  },
  {
   "cell_type": "code",
   "execution_count": 17,
   "id": "Kr8xhS0W0yWE",
   "metadata": {
    "executionInfo": {
     "elapsed": 332,
     "status": "ok",
     "timestamp": 1702845054122,
     "user": {
      "displayName": "No “NoEM” EM",
      "userId": "18134362320568151074"
     },
     "user_tz": -60
    },
    "id": "Kr8xhS0W0yWE"
   },
   "outputs": [],
   "source": [
    "def fill_missing_sulfate_with_mean(df):\n",
    "    # Dodanie kolumny ph_category\n",
    "    df['ph_category'] = np.where(df['ph'] < 7, 'Below 7', '7 and Above')\n",
    "\n",
    "    # Uzupełnienie brakujących wartości w kolumnie 'sulfate' średnimi dla poszczególnych kategorii\n",
    "    df['sulfate'] = df.groupby(['potability', 'ph_category'])['sulfate'].transform(lambda x: x.fillna(x.mean()))\n",
    "\n",
    "    return df"
   ]
  },
  {
   "cell_type": "code",
   "execution_count": 18,
   "id": "KJJ83QF71JU6",
   "metadata": {
    "executionInfo": {
     "elapsed": 682,
     "status": "ok",
     "timestamp": 1702845070320,
     "user": {
      "displayName": "No “NoEM” EM",
      "userId": "18134362320568151074"
     },
     "user_tz": -60
    },
    "id": "KJJ83QF71JU6"
   },
   "outputs": [],
   "source": [
    "# Przykład użycia funkcji\n",
    "df_mean = fill_missing_sulfate_with_mean(df_mean)"
   ]
  },
  {
   "cell_type": "markdown",
   "id": "VOkkDTRd3IK5",
   "metadata": {
    "id": "VOkkDTRd3IK5"
   },
   "source": [
    "Uzupełnianie danych *Trihalometany*"
   ]
  },
  {
   "cell_type": "code",
   "execution_count": 19,
   "id": "cGkpAV5m3Ym0",
   "metadata": {
    "colab": {
     "base_uri": "https://localhost:8080/"
    },
    "executionInfo": {
     "elapsed": 280,
     "status": "ok",
     "timestamp": 1702845056204,
     "user": {
      "displayName": "No “NoEM” EM",
      "userId": "18134362320568151074"
     },
     "user_tz": -60
    },
    "id": "cGkpAV5m3Ym0",
    "outputId": "317e42f2-36fb-44e1-c23d-ae2eb8640f58"
   },
   "outputs": [
    {
     "name": "stdout",
     "output_type": "stream",
     "text": [
      "Średnie stężenia Trihalomethanes dla różnych kategorii potability, ph oraz ogólna średnia:\n",
      "trihalomethanes_category  7 and Above    Below 7  Mean Trihalomethanes\n",
      "potability                                                            \n",
      "0                           66.320090  66.283562             66.303555\n",
      "1                           66.775596  66.270305             66.539684\n"
     ]
    }
   ],
   "source": [
    "def describe_tmh_by_potability_and_ph(df):\n",
    "    # Dodanie kolumny trihalomethanes_category\n",
    "    df['trihalomethanes_category'] = np.where(df['ph'] < 7, 'Below 7', '7 and Above')\n",
    "\n",
    "    # Grupowanie danych\n",
    "    grouped_data = df.groupby(['potability', 'trihalomethanes_category'])['trihalomethanes'].mean().unstack()\n",
    "\n",
    "    # Dodanie średniej dla każdego zakresu stężenia siarczanów\n",
    "    grouped_data['Mean Trihalomethanes'] = df.groupby('potability')['trihalomethanes'].mean()\n",
    "\n",
    "    return grouped_data\n",
    "\n",
    "# Przykład użycia funkcji\n",
    "result = describe_tmh_by_potability_and_ph(df_mean)\n",
    "print(\"Średnie stężenia Trihalomethanes dla różnych kategorii potability, ph oraz ogólna średnia:\")\n",
    "print(result)"
   ]
  },
  {
   "cell_type": "code",
   "execution_count": 20,
   "id": "YLpNIaXB3YkM",
   "metadata": {
    "executionInfo": {
     "elapsed": 2,
     "status": "ok",
     "timestamp": 1702845058942,
     "user": {
      "displayName": "No “NoEM” EM",
      "userId": "18134362320568151074"
     },
     "user_tz": -60
    },
    "id": "YLpNIaXB3YkM"
   },
   "outputs": [],
   "source": [
    "def fill_missing_tmh_with_mean(df):\n",
    "    # Dodanie kolumny ph_category\n",
    "    df['ph_category'] = np.where(df['ph'] < 7, 'Below 7', '7 and Above')\n",
    "\n",
    "    # Uzupełnienie brakujących wartości w kolumnie 'sulfate' średnimi dla poszczególnych kategorii\n",
    "    df['trihalomethanes'] = df.groupby(['potability', 'ph_category'])['trihalomethanes'].transform(lambda x: x.fillna(x.mean()))\n",
    "\n",
    "    return df"
   ]
  },
  {
   "cell_type": "code",
   "execution_count": 21,
   "id": "EaDkRJIb3Yho",
   "metadata": {
    "executionInfo": {
     "elapsed": 267,
     "status": "ok",
     "timestamp": 1702845061289,
     "user": {
      "displayName": "No “NoEM” EM",
      "userId": "18134362320568151074"
     },
     "user_tz": -60
    },
    "id": "EaDkRJIb3Yho"
   },
   "outputs": [],
   "source": [
    "# Przykład użycia funkcji\n",
    "df_mean = fill_missing_tmh_with_mean(df_mean)"
   ]
  },
  {
   "cell_type": "code",
   "execution_count": 22,
   "id": "hh1OVw2C4l0B",
   "metadata": {
    "colab": {
     "base_uri": "https://localhost:8080/",
     "height": 874
    },
    "executionInfo": {
     "elapsed": 592,
     "status": "ok",
     "timestamp": 1702845076059,
     "user": {
      "displayName": "No “NoEM” EM",
      "userId": "18134362320568151074"
     },
     "user_tz": -60
    },
    "id": "hh1OVw2C4l0B",
    "outputId": "a9bf844f-dfb2-458e-9e38-2012fe4a5345"
   },
   "outputs": [
    {
     "data": {
      "image/png": "[encoded data removed]",
      "text/plain": [
       "<Figure size 640x480 with 1 Axes>"
      ]
     },
     "metadata": {},
     "output_type": "display_data"
    },
    {
     "name": "stdout",
     "output_type": "stream",
     "text": [
      "                          Missing Count Missing Percent\n",
      "ph                                    0           0.00%\n",
      "hardness                              0           0.00%\n",
      "solids                                0           0.00%\n",
      "chloramines                           0           0.00%\n",
      "sulfate                               0           0.00%\n",
      "conductivity                          0           0.00%\n",
      "organic_carbon                        0           0.00%\n",
      "trihalomethanes                       0           0.00%\n",
      "turbidity                             0           0.00%\n",
      "potability                            0           0.00%\n",
      "hardness_category                     0           0.00%\n",
      "hardness_threshold                    0           0.00%\n",
      "ph_category                           0           0.00%\n",
      "trihalomethanes_category              0           0.00%\n"
     ]
    }
   ],
   "source": [
    "def display_missing_data_info(df):\n",
    "    # Oblicz ilość brakujących danych\n",
    "    missing_count = df.isnull().sum()\n",
    "\n",
    "    # Oblicz procentowy udział brakujących danych\n",
    "    missing_percent = df.isnull().sum() * 100 / len(df)\n",
    "\n",
    "    percent_missing_rounded = missing_percent.round(2)  # Zaokrąglenie do dwóch miejsc po przecinku\n",
    "\n",
    "    # Wyświetlanie w formacie procentowym\n",
    "    formatted_percent_missing = percent_missing_rounded.apply(lambda x: f\"{x:.2f}%\")\n",
    "\n",
    "    # Połącz obie informacje w jedną ramkę danych\n",
    "    missing_info = pd.concat([missing_count, formatted_percent_missing], axis=1)\n",
    "    missing_info.columns = ['Missing Count', 'Missing Percent']\n",
    "\n",
    "    # Wizualizacja brakujących danych\n",
    "    sns.heatmap(df.isnull(), cbar=False)\n",
    "    plt.show()\n",
    "\n",
    "    # Wyświetl tabelę z ilością i procentem brakujących danych\n",
    "    print(missing_info)\n",
    "\n",
    "# Przykład użycia funkcji na ramce danych df\n",
    "display_missing_data_info(df_mean)"
   ]
  },
  {
   "cell_type": "code",
   "execution_count": 23,
   "id": "3t-60ZnbkLDZ",
   "metadata": {
    "executionInfo": {
     "elapsed": 620,
     "status": "ok",
     "timestamp": 1702845080154,
     "user": {
      "displayName": "No “NoEM” EM",
      "userId": "18134362320568151074"
     },
     "user_tz": -60
    },
    "id": "3t-60ZnbkLDZ"
   },
   "outputs": [],
   "source": [
    "df = df_mean.copy()"
   ]
  },
  {
   "cell_type": "code",
   "execution_count": 24,
   "id": "MZR3m6tT5dvl",
   "metadata": {
    "colab": {
     "base_uri": "https://localhost:8080/",
     "height": 383
    },
    "executionInfo": {
     "elapsed": 5,
     "status": "ok",
     "timestamp": 1702845081458,
     "user": {
      "displayName": "No “NoEM” EM",
      "userId": "18134362320568151074"
     },
     "user_tz": -60
    },
    "id": "MZR3m6tT5dvl",
    "outputId": "a9c0b9d7-24bc-4ac5-f547-27be846bc93f"
   },
   "outputs": [
    {
     "data": {
      "text/html": [
       "<div>\n",
       "<style scoped>\n",
       "    .dataframe tbody tr th:only-of-type {\n",
       "        vertical-align: middle;\n",
       "    }\n",
       "\n",
       "    .dataframe tbody tr th {\n",
       "        vertical-align: top;\n",
       "    }\n",
       "\n",
       "    .dataframe thead th {\n",
       "        text-align: right;\n",
       "    }\n",
       "</style>\n",
       "<table border=\"1\" class=\"dataframe\">\n",
       "  <thead>\n",
       "    <tr style=\"text-align: right;\">\n",
       "      <th></th>\n",
       "      <th>count</th>\n",
       "      <th>mean</th>\n",
       "      <th>std</th>\n",
       "      <th>min</th>\n",
       "      <th>25%</th>\n",
       "      <th>50%</th>\n",
       "      <th>75%</th>\n",
       "      <th>max</th>\n",
       "    </tr>\n",
       "  </thead>\n",
       "  <tbody>\n",
       "    <tr>\n",
       "      <th>ph</th>\n",
       "      <td>3276.0</td>\n",
       "      <td>7.080533</td>\n",
       "      <td>1.471398</td>\n",
       "      <td>0.000000</td>\n",
       "      <td>6.277673</td>\n",
       "      <td>7.116613</td>\n",
       "      <td>7.873622</td>\n",
       "      <td>14.000000</td>\n",
       "    </tr>\n",
       "    <tr>\n",
       "      <th>hardness</th>\n",
       "      <td>3276.0</td>\n",
       "      <td>196.369496</td>\n",
       "      <td>32.879761</td>\n",
       "      <td>47.432000</td>\n",
       "      <td>176.850538</td>\n",
       "      <td>196.967627</td>\n",
       "      <td>216.667456</td>\n",
       "      <td>323.124000</td>\n",
       "    </tr>\n",
       "    <tr>\n",
       "      <th>solids</th>\n",
       "      <td>3276.0</td>\n",
       "      <td>22014.092526</td>\n",
       "      <td>8768.570828</td>\n",
       "      <td>320.942611</td>\n",
       "      <td>15666.690297</td>\n",
       "      <td>20927.833607</td>\n",
       "      <td>27332.762127</td>\n",
       "      <td>61227.196008</td>\n",
       "    </tr>\n",
       "    <tr>\n",
       "      <th>chloramines</th>\n",
       "      <td>3276.0</td>\n",
       "      <td>7.122277</td>\n",
       "      <td>1.583085</td>\n",
       "      <td>0.352000</td>\n",
       "      <td>6.127421</td>\n",
       "      <td>7.130299</td>\n",
       "      <td>8.114887</td>\n",
       "      <td>13.127000</td>\n",
       "    </tr>\n",
       "    <tr>\n",
       "      <th>sulfate</th>\n",
       "      <td>3276.0</td>\n",
       "      <td>333.854525</td>\n",
       "      <td>36.285680</td>\n",
       "      <td>129.000000</td>\n",
       "      <td>317.094638</td>\n",
       "      <td>333.875416</td>\n",
       "      <td>350.385756</td>\n",
       "      <td>481.030642</td>\n",
       "    </tr>\n",
       "    <tr>\n",
       "      <th>conductivity</th>\n",
       "      <td>3276.0</td>\n",
       "      <td>426.205111</td>\n",
       "      <td>80.824064</td>\n",
       "      <td>181.483754</td>\n",
       "      <td>365.734414</td>\n",
       "      <td>421.884968</td>\n",
       "      <td>481.792304</td>\n",
       "      <td>753.342620</td>\n",
       "    </tr>\n",
       "    <tr>\n",
       "      <th>organic_carbon</th>\n",
       "      <td>3276.0</td>\n",
       "      <td>14.284970</td>\n",
       "      <td>3.308162</td>\n",
       "      <td>2.200000</td>\n",
       "      <td>12.065801</td>\n",
       "      <td>14.218338</td>\n",
       "      <td>16.557652</td>\n",
       "      <td>28.300000</td>\n",
       "    </tr>\n",
       "    <tr>\n",
       "      <th>trihalomethanes</th>\n",
       "      <td>3276.0</td>\n",
       "      <td>66.395484</td>\n",
       "      <td>15.769934</td>\n",
       "      <td>0.738000</td>\n",
       "      <td>56.647656</td>\n",
       "      <td>66.320090</td>\n",
       "      <td>76.666609</td>\n",
       "      <td>124.000000</td>\n",
       "    </tr>\n",
       "    <tr>\n",
       "      <th>turbidity</th>\n",
       "      <td>3276.0</td>\n",
       "      <td>3.966786</td>\n",
       "      <td>0.780382</td>\n",
       "      <td>1.450000</td>\n",
       "      <td>3.439711</td>\n",
       "      <td>3.955028</td>\n",
       "      <td>4.500320</td>\n",
       "      <td>6.739000</td>\n",
       "    </tr>\n",
       "    <tr>\n",
       "      <th>potability</th>\n",
       "      <td>3276.0</td>\n",
       "      <td>0.390110</td>\n",
       "      <td>0.487849</td>\n",
       "      <td>0.000000</td>\n",
       "      <td>0.000000</td>\n",
       "      <td>0.000000</td>\n",
       "      <td>1.000000</td>\n",
       "      <td>1.000000</td>\n",
       "    </tr>\n",
       "  </tbody>\n",
       "</table>\n",
       "</div>"
      ],
      "text/plain": [
       "                  count          mean          std         min           25%  \\\n",
       "ph               3276.0      7.080533     1.471398    0.000000      6.277673   \n",
       "hardness         3276.0    196.369496    32.879761   47.432000    176.850538   \n",
       "solids           3276.0  22014.092526  8768.570828  320.942611  15666.690297   \n",
       "chloramines      3276.0      7.122277     1.583085    0.352000      6.127421   \n",
       "sulfate          3276.0    333.854525    36.285680  129.000000    317.094638   \n",
       "conductivity     3276.0    426.205111    80.824064  181.483754    365.734414   \n",
       "organic_carbon   3276.0     14.284970     3.308162    2.200000     12.065801   \n",
       "trihalomethanes  3276.0     66.395484    15.769934    0.738000     56.647656   \n",
       "turbidity        3276.0      3.966786     0.780382    1.450000      3.439711   \n",
       "potability       3276.0      0.390110     0.487849    0.000000      0.000000   \n",
       "\n",
       "                          50%           75%           max  \n",
       "ph                   7.116613      7.873622     14.000000  \n",
       "hardness           196.967627    216.667456    323.124000  \n",
       "solids           20927.833607  27332.762127  61227.196008  \n",
       "chloramines          7.130299      8.114887     13.127000  \n",
       "sulfate            333.875416    350.385756    481.030642  \n",
       "conductivity       421.884968    481.792304    753.342620  \n",
       "organic_carbon      14.218338     16.557652     28.300000  \n",
       "trihalomethanes     66.320090     76.666609    124.000000  \n",
       "turbidity            3.955028      4.500320      6.739000  \n",
       "potability           0.000000      1.000000      1.000000  "
      ]
     },
     "execution_count": 24,
     "metadata": {},
     "output_type": "execute_result"
    }
   ],
   "source": [
    "df.describe().T"
   ]
  },
  {
   "cell_type": "code",
   "execution_count": 31,
   "id": "d125dd8b-0fb2-4c12-9d19-1fc14fcef349",
   "metadata": {
    "colab": {
     "base_uri": "https://localhost:8080/",
     "height": 419
    },
    "executionInfo": {
     "elapsed": 298,
     "status": "ok",
     "timestamp": 1702845083989,
     "user": {
      "displayName": "No “NoEM” EM",
      "userId": "18134362320568151074"
     },
     "user_tz": -60
    },
    "id": "d125dd8b-0fb2-4c12-9d19-1fc14fcef349",
    "outputId": "36c424f0-b068-4aec-a5d5-a14d9c8ab204"
   },
   "outputs": [
    {
     "name": "stdout",
     "output_type": "stream",
     "text": [
      "Covariance: df\n",
      "Shape: (3276, 10)\n"
     ]
    },
    {
     "data": {
      "text/html": [
       "<style type=\"text/css\">\n",
       "#T_bf8bd_row0_col0, #T_bf8bd_row0_col3, #T_bf8bd_row1_col0, #T_bf8bd_row1_col1, #T_bf8bd_row2_col2, #T_bf8bd_row2_col5, #T_bf8bd_row2_col6, #T_bf8bd_row2_col8, #T_bf8bd_row2_col9, #T_bf8bd_row3_col0, #T_bf8bd_row3_col3, #T_bf8bd_row4_col0, #T_bf8bd_row4_col3, #T_bf8bd_row4_col4, #T_bf8bd_row5_col0, #T_bf8bd_row6_col0, #T_bf8bd_row6_col3, #T_bf8bd_row7_col0, #T_bf8bd_row7_col3, #T_bf8bd_row7_col7, #T_bf8bd_row8_col0, #T_bf8bd_row8_col3, #T_bf8bd_row9_col0, #T_bf8bd_row9_col3 {\n",
       "  background-color: #08306b;\n",
       "  color: #f1f1f1;\n",
       "}\n",
       "#T_bf8bd_row0_col1, #T_bf8bd_row3_col1, #T_bf8bd_row6_col1, #T_bf8bd_row8_col1, #T_bf8bd_row9_col1 {\n",
       "  background-color: #084387;\n",
       "  color: #f1f1f1;\n",
       "}\n",
       "#T_bf8bd_row0_col2, #T_bf8bd_row0_col6, #T_bf8bd_row0_col8, #T_bf8bd_row0_col9, #T_bf8bd_row1_col2, #T_bf8bd_row1_col5, #T_bf8bd_row1_col6, #T_bf8bd_row1_col8, #T_bf8bd_row1_col9, #T_bf8bd_row2_col0, #T_bf8bd_row2_col1, #T_bf8bd_row2_col3, #T_bf8bd_row2_col4, #T_bf8bd_row2_col7, #T_bf8bd_row3_col2, #T_bf8bd_row3_col6, #T_bf8bd_row3_col8, #T_bf8bd_row3_col9, #T_bf8bd_row4_col2, #T_bf8bd_row4_col5, #T_bf8bd_row4_col8, #T_bf8bd_row4_col9, #T_bf8bd_row5_col2, #T_bf8bd_row5_col9, #T_bf8bd_row6_col2, #T_bf8bd_row6_col8, #T_bf8bd_row6_col9, #T_bf8bd_row7_col2, #T_bf8bd_row7_col6, #T_bf8bd_row7_col8, #T_bf8bd_row7_col9, #T_bf8bd_row8_col2, #T_bf8bd_row8_col6, #T_bf8bd_row8_col9, #T_bf8bd_row9_col2, #T_bf8bd_row9_col6, #T_bf8bd_row9_col8 {\n",
       "  background-color: #f7fbff;\n",
       "  color: #000000;\n",
       "}\n",
       "#T_bf8bd_row0_col4, #T_bf8bd_row3_col4, #T_bf8bd_row5_col4, #T_bf8bd_row6_col4, #T_bf8bd_row7_col4, #T_bf8bd_row8_col4, #T_bf8bd_row9_col4 {\n",
       "  background-color: #083674;\n",
       "  color: #f1f1f1;\n",
       "}\n",
       "#T_bf8bd_row0_col5, #T_bf8bd_row3_col5, #T_bf8bd_row5_col8, #T_bf8bd_row6_col5, #T_bf8bd_row7_col5, #T_bf8bd_row8_col5, #T_bf8bd_row8_col8, #T_bf8bd_row9_col5, #T_bf8bd_row9_col9 {\n",
       "  background-color: #f6faff;\n",
       "  color: #000000;\n",
       "}\n",
       "#T_bf8bd_row0_col7, #T_bf8bd_row3_col7, #T_bf8bd_row6_col7, #T_bf8bd_row8_col7, #T_bf8bd_row9_col7 {\n",
       "  background-color: #115ca5;\n",
       "  color: #f1f1f1;\n",
       "}\n",
       "#T_bf8bd_row1_col3, #T_bf8bd_row5_col3 {\n",
       "  background-color: #08316d;\n",
       "  color: #f1f1f1;\n",
       "}\n",
       "#T_bf8bd_row1_col4 {\n",
       "  background-color: #083776;\n",
       "  color: #f1f1f1;\n",
       "}\n",
       "#T_bf8bd_row1_col7 {\n",
       "  background-color: #125da6;\n",
       "  color: #f1f1f1;\n",
       "}\n",
       "#T_bf8bd_row4_col1, #T_bf8bd_row5_col1 {\n",
       "  background-color: #08458a;\n",
       "  color: #f1f1f1;\n",
       "}\n",
       "#T_bf8bd_row4_col6 {\n",
       "  background-color: #f5f9fe;\n",
       "  color: #000000;\n",
       "}\n",
       "#T_bf8bd_row4_col7 {\n",
       "  background-color: #125ea6;\n",
       "  color: #f1f1f1;\n",
       "}\n",
       "#T_bf8bd_row5_col5 {\n",
       "  background-color: #3686c0;\n",
       "  color: #f1f1f1;\n",
       "}\n",
       "#T_bf8bd_row5_col6 {\n",
       "  background-color: #f3f8fe;\n",
       "  color: #000000;\n",
       "}\n",
       "#T_bf8bd_row5_col7 {\n",
       "  background-color: #105ba4;\n",
       "  color: #f1f1f1;\n",
       "}\n",
       "#T_bf8bd_row6_col6 {\n",
       "  background-color: #f0f6fd;\n",
       "  color: #000000;\n",
       "}\n",
       "#T_bf8bd_row7_col1 {\n",
       "  background-color: #084488;\n",
       "  color: #f1f1f1;\n",
       "}\n",
       "</style>\n",
       "<table id=\"T_bf8bd\">\n",
       "  <thead>\n",
       "    <tr>\n",
       "      <th class=\"blank level0\" >&nbsp;</th>\n",
       "      <th id=\"T_bf8bd_level0_col0\" class=\"col_heading level0 col0\" >ph</th>\n",
       "      <th id=\"T_bf8bd_level0_col1\" class=\"col_heading level0 col1\" >hardness</th>\n",
       "      <th id=\"T_bf8bd_level0_col2\" class=\"col_heading level0 col2\" >solids</th>\n",
       "      <th id=\"T_bf8bd_level0_col3\" class=\"col_heading level0 col3\" >chloramines</th>\n",
       "      <th id=\"T_bf8bd_level0_col4\" class=\"col_heading level0 col4\" >sulfate</th>\n",
       "      <th id=\"T_bf8bd_level0_col5\" class=\"col_heading level0 col5\" >conductivity</th>\n",
       "      <th id=\"T_bf8bd_level0_col6\" class=\"col_heading level0 col6\" >organic_carbon</th>\n",
       "      <th id=\"T_bf8bd_level0_col7\" class=\"col_heading level0 col7\" >trihalomethanes</th>\n",
       "      <th id=\"T_bf8bd_level0_col8\" class=\"col_heading level0 col8\" >turbidity</th>\n",
       "      <th id=\"T_bf8bd_level0_col9\" class=\"col_heading level0 col9\" >potability</th>\n",
       "    </tr>\n",
       "  </thead>\n",
       "  <tbody>\n",
       "    <tr>\n",
       "      <th id=\"T_bf8bd_level0_row0\" class=\"row_heading level0 row0\" >ph</th>\n",
       "      <td id=\"T_bf8bd_row0_col0\" class=\"data row0 col0\" >2.165011</td>\n",
       "      <td id=\"T_bf8bd_row0_col1\" class=\"data row0 col1\" >4.065240</td>\n",
       "      <td id=\"T_bf8bd_row0_col2\" class=\"data row0 col2\" >-1092.813045</td>\n",
       "      <td id=\"T_bf8bd_row0_col3\" class=\"data row0 col3\" >-0.074040</td>\n",
       "      <td id=\"T_bf8bd_row0_col4\" class=\"data row0 col4\" >0.993922</td>\n",
       "      <td id=\"T_bf8bd_row0_col5\" class=\"data row0 col5\" >2.024858</td>\n",
       "      <td id=\"T_bf8bd_row0_col6\" class=\"data row0 col6\" >0.186542</td>\n",
       "      <td id=\"T_bf8bd_row0_col7\" class=\"data row0 col7\" >0.057152</td>\n",
       "      <td id=\"T_bf8bd_row0_col8\" class=\"data row0 col8\" >-0.042188</td>\n",
       "      <td id=\"T_bf8bd_row0_col9\" class=\"data row0 col9\" >-0.003423</td>\n",
       "    </tr>\n",
       "    <tr>\n",
       "      <th id=\"T_bf8bd_level0_row1\" class=\"row_heading level0 row1\" >hardness</th>\n",
       "      <td id=\"T_bf8bd_row1_col0\" class=\"data row1 col0\" >4.065240</td>\n",
       "      <td id=\"T_bf8bd_row1_col1\" class=\"data row1 col1\" >1081.078715</td>\n",
       "      <td id=\"T_bf8bd_row1_col2\" class=\"data row1 col2\" >-13521.486526</td>\n",
       "      <td id=\"T_bf8bd_row1_col3\" class=\"data row1 col3\" >-1.564367</td>\n",
       "      <td id=\"T_bf8bd_row1_col4\" class=\"data row1 col4\" >-100.901251</td>\n",
       "      <td id=\"T_bf8bd_row1_col5\" class=\"data row1 col5\" >-63.552473</td>\n",
       "      <td id=\"T_bf8bd_row1_col6\" class=\"data row1 col6\" >0.392670</td>\n",
       "      <td id=\"T_bf8bd_row1_col7\" class=\"data row1 col7\" >-6.580546</td>\n",
       "      <td id=\"T_bf8bd_row1_col8\" class=\"data row1 col8\" >-0.370747</td>\n",
       "      <td id=\"T_bf8bd_row1_col9\" class=\"data row1 col9\" >-0.221943</td>\n",
       "    </tr>\n",
       "    <tr>\n",
       "      <th id=\"T_bf8bd_level0_row2\" class=\"row_heading level0 row2\" >solids</th>\n",
       "      <td id=\"T_bf8bd_row2_col0\" class=\"data row2 col0\" >-1092.813045</td>\n",
       "      <td id=\"T_bf8bd_row2_col1\" class=\"data row2 col1\" >-13521.486526</td>\n",
       "      <td id=\"T_bf8bd_row2_col2\" class=\"data row2 col2\" >76887834.361898</td>\n",
       "      <td id=\"T_bf8bd_row2_col3\" class=\"data row2 col3\" >-973.746052</td>\n",
       "      <td id=\"T_bf8bd_row2_col4\" class=\"data row2 col4\" >-48938.938849</td>\n",
       "      <td id=\"T_bf8bd_row2_col5\" class=\"data row2 col5\" >9802.117116</td>\n",
       "      <td id=\"T_bf8bd_row2_col6\" class=\"data row2 col6\" >297.108377</td>\n",
       "      <td id=\"T_bf8bd_row2_col7\" class=\"data row2 col7\" >-1226.143931</td>\n",
       "      <td id=\"T_bf8bd_row2_col8\" class=\"data row2 col8\" >133.751106</td>\n",
       "      <td id=\"T_bf8bd_row2_col9\" class=\"data row2 col9\" >144.345121</td>\n",
       "    </tr>\n",
       "    <tr>\n",
       "      <th id=\"T_bf8bd_level0_row3\" class=\"row_heading level0 row3\" >chloramines</th>\n",
       "      <td id=\"T_bf8bd_row3_col0\" class=\"data row3 col0\" >-0.074040</td>\n",
       "      <td id=\"T_bf8bd_row3_col1\" class=\"data row3 col1\" >-1.564367</td>\n",
       "      <td id=\"T_bf8bd_row3_col2\" class=\"data row3 col2\" >-973.746052</td>\n",
       "      <td id=\"T_bf8bd_row3_col3\" class=\"data row3 col3\" >2.506158</td>\n",
       "      <td id=\"T_bf8bd_row3_col4\" class=\"data row3 col4\" >1.022765</td>\n",
       "      <td id=\"T_bf8bd_row3_col5\" class=\"data row3 col5\" >-2.621264</td>\n",
       "      <td id=\"T_bf8bd_row3_col6\" class=\"data row3 col6\" >-0.066268</td>\n",
       "      <td id=\"T_bf8bd_row3_col7\" class=\"data row3 col7\" >0.415856</td>\n",
       "      <td id=\"T_bf8bd_row3_col8\" class=\"data row3 col8\" >0.002920</td>\n",
       "      <td id=\"T_bf8bd_row3_col9\" class=\"data row3 col9\" >0.018365</td>\n",
       "    </tr>\n",
       "    <tr>\n",
       "      <th id=\"T_bf8bd_level0_row4\" class=\"row_heading level0 row4\" >sulfate</th>\n",
       "      <td id=\"T_bf8bd_row4_col0\" class=\"data row4 col0\" >0.993922</td>\n",
       "      <td id=\"T_bf8bd_row4_col1\" class=\"data row4 col1\" >-100.901251</td>\n",
       "      <td id=\"T_bf8bd_row4_col2\" class=\"data row4 col2\" >-48938.938849</td>\n",
       "      <td id=\"T_bf8bd_row4_col3\" class=\"data row4 col3\" >1.022765</td>\n",
       "      <td id=\"T_bf8bd_row4_col4\" class=\"data row4 col4\" >1316.650577</td>\n",
       "      <td id=\"T_bf8bd_row4_col5\" class=\"data row4 col5\" >-37.310953</td>\n",
       "      <td id=\"T_bf8bd_row4_col6\" class=\"data row4 col6\" >3.467955</td>\n",
       "      <td id=\"T_bf8bd_row4_col7\" class=\"data row4 col7\" >-16.122792</td>\n",
       "      <td id=\"T_bf8bd_row4_col8\" class=\"data row4 col8\" >-0.292843</td>\n",
       "      <td id=\"T_bf8bd_row4_col9\" class=\"data row4 col9\" >-0.472145</td>\n",
       "    </tr>\n",
       "    <tr>\n",
       "      <th id=\"T_bf8bd_level0_row5\" class=\"row_heading level0 row5\" >conductivity</th>\n",
       "      <td id=\"T_bf8bd_row5_col0\" class=\"data row5 col0\" >2.024858</td>\n",
       "      <td id=\"T_bf8bd_row5_col1\" class=\"data row5 col1\" >-63.552473</td>\n",
       "      <td id=\"T_bf8bd_row5_col2\" class=\"data row5 col2\" >9802.117116</td>\n",
       "      <td id=\"T_bf8bd_row5_col3\" class=\"data row5 col3\" >-2.621264</td>\n",
       "      <td id=\"T_bf8bd_row5_col4\" class=\"data row5 col4\" >-37.310953</td>\n",
       "      <td id=\"T_bf8bd_row5_col5\" class=\"data row5 col5\" >6532.529330</td>\n",
       "      <td id=\"T_bf8bd_row5_col6\" class=\"data row5 col6\" >5.605967</td>\n",
       "      <td id=\"T_bf8bd_row5_col7\" class=\"data row5 col7\" >1.637000</td>\n",
       "      <td id=\"T_bf8bd_row5_col8\" class=\"data row5 col8\" >0.365712</td>\n",
       "      <td id=\"T_bf8bd_row5_col9\" class=\"data row5 col9\" >-0.320499</td>\n",
       "    </tr>\n",
       "    <tr>\n",
       "      <th id=\"T_bf8bd_level0_row6\" class=\"row_heading level0 row6\" >organic_carbon</th>\n",
       "      <td id=\"T_bf8bd_row6_col0\" class=\"data row6 col0\" >0.186542</td>\n",
       "      <td id=\"T_bf8bd_row6_col1\" class=\"data row6 col1\" >0.392670</td>\n",
       "      <td id=\"T_bf8bd_row6_col2\" class=\"data row6 col2\" >297.108377</td>\n",
       "      <td id=\"T_bf8bd_row6_col3\" class=\"data row6 col3\" >-0.066268</td>\n",
       "      <td id=\"T_bf8bd_row6_col4\" class=\"data row6 col4\" >3.467955</td>\n",
       "      <td id=\"T_bf8bd_row6_col5\" class=\"data row6 col5\" >5.605967</td>\n",
       "      <td id=\"T_bf8bd_row6_col6\" class=\"data row6 col6\" >10.943936</td>\n",
       "      <td id=\"T_bf8bd_row6_col7\" class=\"data row6 col7\" >-0.674963</td>\n",
       "      <td id=\"T_bf8bd_row6_col8\" class=\"data row6 col8\" >-0.070499</td>\n",
       "      <td id=\"T_bf8bd_row6_col9\" class=\"data row6 col9\" >-0.048419</td>\n",
       "    </tr>\n",
       "    <tr>\n",
       "      <th id=\"T_bf8bd_level0_row7\" class=\"row_heading level0 row7\" >trihalomethanes</th>\n",
       "      <td id=\"T_bf8bd_row7_col0\" class=\"data row7 col0\" >0.057152</td>\n",
       "      <td id=\"T_bf8bd_row7_col1\" class=\"data row7 col1\" >-6.580546</td>\n",
       "      <td id=\"T_bf8bd_row7_col2\" class=\"data row7 col2\" >-1226.143931</td>\n",
       "      <td id=\"T_bf8bd_row7_col3\" class=\"data row7 col3\" >0.415856</td>\n",
       "      <td id=\"T_bf8bd_row7_col4\" class=\"data row7 col4\" >-16.122792</td>\n",
       "      <td id=\"T_bf8bd_row7_col5\" class=\"data row7 col5\" >1.637000</td>\n",
       "      <td id=\"T_bf8bd_row7_col6\" class=\"data row7 col6\" >-0.674963</td>\n",
       "      <td id=\"T_bf8bd_row7_col7\" class=\"data row7 col7\" >248.690804</td>\n",
       "      <td id=\"T_bf8bd_row7_col8\" class=\"data row7 col8\" >-0.265439</td>\n",
       "      <td id=\"T_bf8bd_row7_col9\" class=\"data row7 col9\" >0.056067</td>\n",
       "    </tr>\n",
       "    <tr>\n",
       "      <th id=\"T_bf8bd_level0_row8\" class=\"row_heading level0 row8\" >turbidity</th>\n",
       "      <td id=\"T_bf8bd_row8_col0\" class=\"data row8 col0\" >-0.042188</td>\n",
       "      <td id=\"T_bf8bd_row8_col1\" class=\"data row8 col1\" >-0.370747</td>\n",
       "      <td id=\"T_bf8bd_row8_col2\" class=\"data row8 col2\" >133.751106</td>\n",
       "      <td id=\"T_bf8bd_row8_col3\" class=\"data row8 col3\" >0.002920</td>\n",
       "      <td id=\"T_bf8bd_row8_col4\" class=\"data row8 col4\" >-0.292843</td>\n",
       "      <td id=\"T_bf8bd_row8_col5\" class=\"data row8 col5\" >0.365712</td>\n",
       "      <td id=\"T_bf8bd_row8_col6\" class=\"data row8 col6\" >-0.070499</td>\n",
       "      <td id=\"T_bf8bd_row8_col7\" class=\"data row8 col7\" >-0.265439</td>\n",
       "      <td id=\"T_bf8bd_row8_col8\" class=\"data row8 col8\" >0.608997</td>\n",
       "      <td id=\"T_bf8bd_row8_col9\" class=\"data row8 col9\" >0.000602</td>\n",
       "    </tr>\n",
       "    <tr>\n",
       "      <th id=\"T_bf8bd_level0_row9\" class=\"row_heading level0 row9\" >potability</th>\n",
       "      <td id=\"T_bf8bd_row9_col0\" class=\"data row9 col0\" >-0.003423</td>\n",
       "      <td id=\"T_bf8bd_row9_col1\" class=\"data row9 col1\" >-0.221943</td>\n",
       "      <td id=\"T_bf8bd_row9_col2\" class=\"data row9 col2\" >144.345121</td>\n",
       "      <td id=\"T_bf8bd_row9_col3\" class=\"data row9 col3\" >0.018365</td>\n",
       "      <td id=\"T_bf8bd_row9_col4\" class=\"data row9 col4\" >-0.472145</td>\n",
       "      <td id=\"T_bf8bd_row9_col5\" class=\"data row9 col5\" >-0.320499</td>\n",
       "      <td id=\"T_bf8bd_row9_col6\" class=\"data row9 col6\" >-0.048419</td>\n",
       "      <td id=\"T_bf8bd_row9_col7\" class=\"data row9 col7\" >0.056067</td>\n",
       "      <td id=\"T_bf8bd_row9_col8\" class=\"data row9 col8\" >0.000602</td>\n",
       "      <td id=\"T_bf8bd_row9_col9\" class=\"data row9 col9\" >0.237997</td>\n",
       "    </tr>\n",
       "  </tbody>\n",
       "</table>\n"
      ],
      "text/plain": [
       "<pandas.io.formats.style.Styler at 0x7fd8f7b01910>"
      ]
     },
     "metadata": {},
     "output_type": "display_data"
    }
   ],
   "source": [
    "# Funkcja do wyświetlania kowariancji tylko dla kolumn numerycznych\n",
    "def display_numeric_covariance(df, title):\n",
    "    # Wybierz tylko kolumny numeryczne\n",
    "    numeric_df = df.select_dtypes(include=['int64', 'float64'])\n",
    "\n",
    "    # Sprawdź, czy istnieją kolumny numeryczne do analizy\n",
    "    if numeric_df.shape[1] == 0:\n",
    "        print(\"Brak kolumn numerycznych do analizy.\")\n",
    "        return\n",
    "\n",
    "    # Oblicz kowariancję tylko dla kolumn numerycznych\n",
    "    covariance_matrix = numeric_df.cov()\n",
    "\n",
    "    # Stylizacja i wyświetlenie wyników\n",
    "    styled_matrix = covariance_matrix.style.background_gradient(cmap=\"Blues\")\n",
    "    print(f\"Covariance: {title}\")\n",
    "    print(f\"Shape: {numeric_df.shape}\")\n",
    "    display(styled_matrix)\n",
    "\n",
    "# Przykład użycia funkcji dla różnych DataFrame\n",
    "display_numeric_covariance(df, \"df\")"
   ]
  },
  {
   "cell_type": "code",
   "execution_count": 32,
   "id": "ae1ba344-8fed-47ed-8aef-cb002a06e313",
   "metadata": {
    "colab": {
     "base_uri": "https://localhost:8080/",
     "height": 419
    },
    "executionInfo": {
     "elapsed": 330,
     "status": "ok",
     "timestamp": 1702845093130,
     "user": {
      "displayName": "No “NoEM” EM",
      "userId": "18134362320568151074"
     },
     "user_tz": -60
    },
    "id": "ae1ba344-8fed-47ed-8aef-cb002a06e313",
    "outputId": "01eea545-ab69-4c1c-f0fc-25299e1b1a05"
   },
   "outputs": [
    {
     "name": "stdout",
     "output_type": "stream",
     "text": [
      "Correlation: df\n",
      "Shape: (3276, 10)\n"
     ]
    },
    {
     "data": {
      "text/html": [
       "<style type=\"text/css\">\n",
       "#T_2fb3e_row0_col0, #T_2fb3e_row1_col1, #T_2fb3e_row2_col2, #T_2fb3e_row3_col3, #T_2fb3e_row4_col4, #T_2fb3e_row5_col5, #T_2fb3e_row6_col6, #T_2fb3e_row7_col7, #T_2fb3e_row8_col8, #T_2fb3e_row9_col9 {\n",
       "  background-color: #08306b;\n",
       "  color: #f1f1f1;\n",
       "}\n",
       "#T_2fb3e_row0_col1, #T_2fb3e_row1_col0 {\n",
       "  background-color: #d9e7f5;\n",
       "  color: #000000;\n",
       "}\n",
       "#T_2fb3e_row0_col2, #T_2fb3e_row1_col4, #T_2fb3e_row2_col9 {\n",
       "  background-color: #ebf3fb;\n",
       "  color: #000000;\n",
       "}\n",
       "#T_2fb3e_row0_col3, #T_2fb3e_row1_col3, #T_2fb3e_row2_col5, #T_2fb3e_row3_col8, #T_2fb3e_row7_col9, #T_2fb3e_row9_col8 {\n",
       "  background-color: #f0f6fd;\n",
       "  color: #000000;\n",
       "}\n",
       "#T_2fb3e_row0_col4, #T_2fb3e_row3_col4, #T_2fb3e_row8_col2 {\n",
       "  background-color: #d9e8f5;\n",
       "  color: #000000;\n",
       "}\n",
       "#T_2fb3e_row0_col5, #T_2fb3e_row2_col6, #T_2fb3e_row5_col8 {\n",
       "  background-color: #eff6fc;\n",
       "  color: #000000;\n",
       "}\n",
       "#T_2fb3e_row0_col6, #T_2fb3e_row7_col1, #T_2fb3e_row8_col1, #T_2fb3e_row9_col1 {\n",
       "  background-color: #eaf3fb;\n",
       "  color: #000000;\n",
       "}\n",
       "#T_2fb3e_row0_col7, #T_2fb3e_row5_col7, #T_2fb3e_row8_col5, #T_2fb3e_row8_col9 {\n",
       "  background-color: #f2f7fd;\n",
       "  color: #000000;\n",
       "}\n",
       "#T_2fb3e_row0_col8, #T_2fb3e_row1_col5, #T_2fb3e_row2_col0, #T_2fb3e_row2_col3, #T_2fb3e_row2_col4, #T_2fb3e_row3_col5, #T_2fb3e_row4_col1, #T_2fb3e_row4_col2, #T_2fb3e_row4_col7, #T_2fb3e_row4_col9, #T_2fb3e_row6_col9, #T_2fb3e_row8_col6, #T_2fb3e_row9_col6 {\n",
       "  background-color: #f7fbff;\n",
       "  color: #000000;\n",
       "}\n",
       "#T_2fb3e_row0_col9, #T_2fb3e_row4_col8, #T_2fb3e_row7_col5 {\n",
       "  background-color: #f2f8fd;\n",
       "  color: #000000;\n",
       "}\n",
       "#T_2fb3e_row1_col2 {\n",
       "  background-color: #e5eff9;\n",
       "  color: #000000;\n",
       "}\n",
       "#T_2fb3e_row1_col6, #T_2fb3e_row2_col1, #T_2fb3e_row9_col7 {\n",
       "  background-color: #f1f7fd;\n",
       "  color: #000000;\n",
       "}\n",
       "#T_2fb3e_row1_col7, #T_2fb3e_row6_col7, #T_2fb3e_row7_col8, #T_2fb3e_row9_col5 {\n",
       "  background-color: #f5f9fe;\n",
       "  color: #000000;\n",
       "}\n",
       "#T_2fb3e_row1_col8, #T_2fb3e_row5_col9 {\n",
       "  background-color: #f3f8fe;\n",
       "  color: #000000;\n",
       "}\n",
       "#T_2fb3e_row1_col9, #T_2fb3e_row2_col7, #T_2fb3e_row3_col6, #T_2fb3e_row7_col6 {\n",
       "  background-color: #f4f9fe;\n",
       "  color: #000000;\n",
       "}\n",
       "#T_2fb3e_row2_col8, #T_2fb3e_row3_col9, #T_2fb3e_row6_col3 {\n",
       "  background-color: #edf4fc;\n",
       "  color: #000000;\n",
       "}\n",
       "#T_2fb3e_row3_col0, #T_2fb3e_row3_col1, #T_2fb3e_row3_col7, #T_2fb3e_row5_col3, #T_2fb3e_row5_col6, #T_2fb3e_row6_col5, #T_2fb3e_row8_col0 {\n",
       "  background-color: #eef5fc;\n",
       "  color: #000000;\n",
       "}\n",
       "#T_2fb3e_row3_col2, #T_2fb3e_row9_col0 {\n",
       "  background-color: #e9f2fa;\n",
       "  color: #000000;\n",
       "}\n",
       "#T_2fb3e_row4_col0, #T_2fb3e_row5_col0 {\n",
       "  background-color: #e4eff9;\n",
       "  color: #000000;\n",
       "}\n",
       "#T_2fb3e_row4_col3 {\n",
       "  background-color: #e7f0fa;\n",
       "  color: #000000;\n",
       "}\n",
       "#T_2fb3e_row4_col5, #T_2fb3e_row6_col8 {\n",
       "  background-color: #f5fafe;\n",
       "  color: #000000;\n",
       "}\n",
       "#T_2fb3e_row4_col6, #T_2fb3e_row5_col1 {\n",
       "  background-color: #ecf4fb;\n",
       "  color: #000000;\n",
       "}\n",
       "#T_2fb3e_row5_col2 {\n",
       "  background-color: #dae8f6;\n",
       "  color: #000000;\n",
       "}\n",
       "#T_2fb3e_row5_col4, #T_2fb3e_row8_col4 {\n",
       "  background-color: #dfebf7;\n",
       "  color: #000000;\n",
       "}\n",
       "#T_2fb3e_row6_col0 {\n",
       "  background-color: #e0ecf8;\n",
       "  color: #000000;\n",
       "}\n",
       "#T_2fb3e_row6_col1, #T_2fb3e_row7_col0, #T_2fb3e_row7_col3 {\n",
       "  background-color: #e7f1fa;\n",
       "  color: #000000;\n",
       "}\n",
       "#T_2fb3e_row6_col2 {\n",
       "  background-color: #dbe9f6;\n",
       "  color: #000000;\n",
       "}\n",
       "#T_2fb3e_row6_col4 {\n",
       "  background-color: #d8e7f5;\n",
       "  color: #000000;\n",
       "}\n",
       "#T_2fb3e_row7_col2 {\n",
       "  background-color: #deebf7;\n",
       "  color: #000000;\n",
       "}\n",
       "#T_2fb3e_row7_col4 {\n",
       "  background-color: #e2edf8;\n",
       "  color: #000000;\n",
       "}\n",
       "#T_2fb3e_row8_col3 {\n",
       "  background-color: #eaf2fb;\n",
       "  color: #000000;\n",
       "}\n",
       "#T_2fb3e_row8_col7 {\n",
       "  background-color: #f6faff;\n",
       "  color: #000000;\n",
       "}\n",
       "#T_2fb3e_row9_col2 {\n",
       "  background-color: #d7e6f5;\n",
       "  color: #000000;\n",
       "}\n",
       "#T_2fb3e_row9_col3 {\n",
       "  background-color: #e6f0f9;\n",
       "  color: #000000;\n",
       "}\n",
       "#T_2fb3e_row9_col4 {\n",
       "  background-color: #e1edf8;\n",
       "  color: #000000;\n",
       "}\n",
       "</style>\n",
       "<table id=\"T_2fb3e\">\n",
       "  <thead>\n",
       "    <tr>\n",
       "      <th class=\"blank level0\" >&nbsp;</th>\n",
       "      <th id=\"T_2fb3e_level0_col0\" class=\"col_heading level0 col0\" >ph</th>\n",
       "      <th id=\"T_2fb3e_level0_col1\" class=\"col_heading level0 col1\" >hardness</th>\n",
       "      <th id=\"T_2fb3e_level0_col2\" class=\"col_heading level0 col2\" >solids</th>\n",
       "      <th id=\"T_2fb3e_level0_col3\" class=\"col_heading level0 col3\" >chloramines</th>\n",
       "      <th id=\"T_2fb3e_level0_col4\" class=\"col_heading level0 col4\" >sulfate</th>\n",
       "      <th id=\"T_2fb3e_level0_col5\" class=\"col_heading level0 col5\" >conductivity</th>\n",
       "      <th id=\"T_2fb3e_level0_col6\" class=\"col_heading level0 col6\" >organic_carbon</th>\n",
       "      <th id=\"T_2fb3e_level0_col7\" class=\"col_heading level0 col7\" >trihalomethanes</th>\n",
       "      <th id=\"T_2fb3e_level0_col8\" class=\"col_heading level0 col8\" >turbidity</th>\n",
       "      <th id=\"T_2fb3e_level0_col9\" class=\"col_heading level0 col9\" >potability</th>\n",
       "    </tr>\n",
       "  </thead>\n",
       "  <tbody>\n",
       "    <tr>\n",
       "      <th id=\"T_2fb3e_level0_row0\" class=\"row_heading level0 row0\" >ph</th>\n",
       "      <td id=\"T_2fb3e_row0_col0\" class=\"data row0 col0\" >1.000000</td>\n",
       "      <td id=\"T_2fb3e_row0_col1\" class=\"data row0 col1\" >0.084029</td>\n",
       "      <td id=\"T_2fb3e_row0_col2\" class=\"data row0 col2\" >-0.084701</td>\n",
       "      <td id=\"T_2fb3e_row0_col3\" class=\"data row0 col3\" >-0.031786</td>\n",
       "      <td id=\"T_2fb3e_row0_col4\" class=\"data row0 col4\" >0.018616</td>\n",
       "      <td id=\"T_2fb3e_row0_col5\" class=\"data row0 col5\" >0.017026</td>\n",
       "      <td id=\"T_2fb3e_row0_col6\" class=\"data row0 col6\" >0.038323</td>\n",
       "      <td id=\"T_2fb3e_row0_col7\" class=\"data row0 col7\" >0.002463</td>\n",
       "      <td id=\"T_2fb3e_row0_col8\" class=\"data row0 col8\" >-0.036741</td>\n",
       "      <td id=\"T_2fb3e_row0_col9\" class=\"data row0 col9\" >-0.004769</td>\n",
       "    </tr>\n",
       "    <tr>\n",
       "      <th id=\"T_2fb3e_level0_row1\" class=\"row_heading level0 row1\" >hardness</th>\n",
       "      <td id=\"T_2fb3e_row1_col0\" class=\"data row1 col0\" >0.084029</td>\n",
       "      <td id=\"T_2fb3e_row1_col1\" class=\"data row1 col1\" >1.000000</td>\n",
       "      <td id=\"T_2fb3e_row1_col2\" class=\"data row1 col2\" >-0.046899</td>\n",
       "      <td id=\"T_2fb3e_row1_col3\" class=\"data row1 col3\" >-0.030054</td>\n",
       "      <td id=\"T_2fb3e_row1_col4\" class=\"data row1 col4\" >-0.084573</td>\n",
       "      <td id=\"T_2fb3e_row1_col5\" class=\"data row1 col5\" >-0.023915</td>\n",
       "      <td id=\"T_2fb3e_row1_col6\" class=\"data row1 col6\" >0.003610</td>\n",
       "      <td id=\"T_2fb3e_row1_col7\" class=\"data row1 col7\" >-0.012691</td>\n",
       "      <td id=\"T_2fb3e_row1_col8\" class=\"data row1 col8\" >-0.014449</td>\n",
       "      <td id=\"T_2fb3e_row1_col9\" class=\"data row1 col9\" >-0.013837</td>\n",
       "    </tr>\n",
       "    <tr>\n",
       "      <th id=\"T_2fb3e_level0_row2\" class=\"row_heading level0 row2\" >solids</th>\n",
       "      <td id=\"T_2fb3e_row2_col0\" class=\"data row2 col0\" >-0.084701</td>\n",
       "      <td id=\"T_2fb3e_row2_col1\" class=\"data row2 col1\" >-0.046899</td>\n",
       "      <td id=\"T_2fb3e_row2_col2\" class=\"data row2 col2\" >1.000000</td>\n",
       "      <td id=\"T_2fb3e_row2_col3\" class=\"data row2 col3\" >-0.070148</td>\n",
       "      <td id=\"T_2fb3e_row2_col4\" class=\"data row2 col4\" >-0.153812</td>\n",
       "      <td id=\"T_2fb3e_row2_col5\" class=\"data row2 col5\" >0.013831</td>\n",
       "      <td id=\"T_2fb3e_row2_col6\" class=\"data row2 col6\" >0.010242</td>\n",
       "      <td id=\"T_2fb3e_row2_col7\" class=\"data row2 col7\" >-0.008867</td>\n",
       "      <td id=\"T_2fb3e_row2_col8\" class=\"data row2 col8\" >0.019546</td>\n",
       "      <td id=\"T_2fb3e_row2_col9\" class=\"data row2 col9\" >0.033743</td>\n",
       "    </tr>\n",
       "    <tr>\n",
       "      <th id=\"T_2fb3e_level0_row3\" class=\"row_heading level0 row3\" >chloramines</th>\n",
       "      <td id=\"T_2fb3e_row3_col0\" class=\"data row3 col0\" >-0.031786</td>\n",
       "      <td id=\"T_2fb3e_row3_col1\" class=\"data row3 col1\" >-0.030054</td>\n",
       "      <td id=\"T_2fb3e_row3_col2\" class=\"data row3 col2\" >-0.070148</td>\n",
       "      <td id=\"T_2fb3e_row3_col3\" class=\"data row3 col3\" >1.000000</td>\n",
       "      <td id=\"T_2fb3e_row3_col4\" class=\"data row3 col4\" >0.017805</td>\n",
       "      <td id=\"T_2fb3e_row3_col5\" class=\"data row3 col5\" >-0.020486</td>\n",
       "      <td id=\"T_2fb3e_row3_col6\" class=\"data row3 col6\" >-0.012653</td>\n",
       "      <td id=\"T_2fb3e_row3_col7\" class=\"data row3 col7\" >0.016657</td>\n",
       "      <td id=\"T_2fb3e_row3_col8\" class=\"data row3 col8\" >0.002363</td>\n",
       "      <td id=\"T_2fb3e_row3_col9\" class=\"data row3 col9\" >0.023779</td>\n",
       "    </tr>\n",
       "    <tr>\n",
       "      <th id=\"T_2fb3e_level0_row4\" class=\"row_heading level0 row4\" >sulfate</th>\n",
       "      <td id=\"T_2fb3e_row4_col0\" class=\"data row4 col0\" >0.018616</td>\n",
       "      <td id=\"T_2fb3e_row4_col1\" class=\"data row4 col1\" >-0.084573</td>\n",
       "      <td id=\"T_2fb3e_row4_col2\" class=\"data row4 col2\" >-0.153812</td>\n",
       "      <td id=\"T_2fb3e_row4_col3\" class=\"data row4 col3\" >0.017805</td>\n",
       "      <td id=\"T_2fb3e_row4_col4\" class=\"data row4 col4\" >1.000000</td>\n",
       "      <td id=\"T_2fb3e_row4_col5\" class=\"data row4 col5\" >-0.012722</td>\n",
       "      <td id=\"T_2fb3e_row4_col6\" class=\"data row4 col6\" >0.028890</td>\n",
       "      <td id=\"T_2fb3e_row4_col7\" class=\"data row4 col7\" >-0.028176</td>\n",
       "      <td id=\"T_2fb3e_row4_col8\" class=\"data row4 col8\" >-0.010342</td>\n",
       "      <td id=\"T_2fb3e_row4_col9\" class=\"data row4 col9\" >-0.026672</td>\n",
       "    </tr>\n",
       "    <tr>\n",
       "      <th id=\"T_2fb3e_level0_row5\" class=\"row_heading level0 row5\" >conductivity</th>\n",
       "      <td id=\"T_2fb3e_row5_col0\" class=\"data row5 col0\" >0.017026</td>\n",
       "      <td id=\"T_2fb3e_row5_col1\" class=\"data row5 col1\" >-0.023915</td>\n",
       "      <td id=\"T_2fb3e_row5_col2\" class=\"data row5 col2\" >0.013831</td>\n",
       "      <td id=\"T_2fb3e_row5_col3\" class=\"data row5 col3\" >-0.020486</td>\n",
       "      <td id=\"T_2fb3e_row5_col4\" class=\"data row5 col4\" >-0.012722</td>\n",
       "      <td id=\"T_2fb3e_row5_col5\" class=\"data row5 col5\" >1.000000</td>\n",
       "      <td id=\"T_2fb3e_row5_col6\" class=\"data row5 col6\" >0.020966</td>\n",
       "      <td id=\"T_2fb3e_row5_col7\" class=\"data row5 col7\" >0.001284</td>\n",
       "      <td id=\"T_2fb3e_row5_col8\" class=\"data row5 col8\" >0.005798</td>\n",
       "      <td id=\"T_2fb3e_row5_col9\" class=\"data row5 col9\" >-0.008128</td>\n",
       "    </tr>\n",
       "    <tr>\n",
       "      <th id=\"T_2fb3e_level0_row6\" class=\"row_heading level0 row6\" >organic_carbon</th>\n",
       "      <td id=\"T_2fb3e_row6_col0\" class=\"data row6 col0\" >0.038323</td>\n",
       "      <td id=\"T_2fb3e_row6_col1\" class=\"data row6 col1\" >0.003610</td>\n",
       "      <td id=\"T_2fb3e_row6_col2\" class=\"data row6 col2\" >0.010242</td>\n",
       "      <td id=\"T_2fb3e_row6_col3\" class=\"data row6 col3\" >-0.012653</td>\n",
       "      <td id=\"T_2fb3e_row6_col4\" class=\"data row6 col4\" >0.028890</td>\n",
       "      <td id=\"T_2fb3e_row6_col5\" class=\"data row6 col5\" >0.020966</td>\n",
       "      <td id=\"T_2fb3e_row6_col6\" class=\"data row6 col6\" >1.000000</td>\n",
       "      <td id=\"T_2fb3e_row6_col7\" class=\"data row6 col7\" >-0.012938</td>\n",
       "      <td id=\"T_2fb3e_row6_col8\" class=\"data row6 col8\" >-0.027308</td>\n",
       "      <td id=\"T_2fb3e_row6_col9\" class=\"data row6 col9\" >-0.030001</td>\n",
       "    </tr>\n",
       "    <tr>\n",
       "      <th id=\"T_2fb3e_level0_row7\" class=\"row_heading level0 row7\" >trihalomethanes</th>\n",
       "      <td id=\"T_2fb3e_row7_col0\" class=\"data row7 col0\" >0.002463</td>\n",
       "      <td id=\"T_2fb3e_row7_col1\" class=\"data row7 col1\" >-0.012691</td>\n",
       "      <td id=\"T_2fb3e_row7_col2\" class=\"data row7 col2\" >-0.008867</td>\n",
       "      <td id=\"T_2fb3e_row7_col3\" class=\"data row7 col3\" >0.016657</td>\n",
       "      <td id=\"T_2fb3e_row7_col4\" class=\"data row7 col4\" >-0.028176</td>\n",
       "      <td id=\"T_2fb3e_row7_col5\" class=\"data row7 col5\" >0.001284</td>\n",
       "      <td id=\"T_2fb3e_row7_col6\" class=\"data row7 col6\" >-0.012938</td>\n",
       "      <td id=\"T_2fb3e_row7_col7\" class=\"data row7 col7\" >1.000000</td>\n",
       "      <td id=\"T_2fb3e_row7_col8\" class=\"data row7 col8\" >-0.021569</td>\n",
       "      <td id=\"T_2fb3e_row7_col9\" class=\"data row7 col9\" >0.007288</td>\n",
       "    </tr>\n",
       "    <tr>\n",
       "      <th id=\"T_2fb3e_level0_row8\" class=\"row_heading level0 row8\" >turbidity</th>\n",
       "      <td id=\"T_2fb3e_row8_col0\" class=\"data row8 col0\" >-0.036741</td>\n",
       "      <td id=\"T_2fb3e_row8_col1\" class=\"data row8 col1\" >-0.014449</td>\n",
       "      <td id=\"T_2fb3e_row8_col2\" class=\"data row8 col2\" >0.019546</td>\n",
       "      <td id=\"T_2fb3e_row8_col3\" class=\"data row8 col3\" >0.002363</td>\n",
       "      <td id=\"T_2fb3e_row8_col4\" class=\"data row8 col4\" >-0.010342</td>\n",
       "      <td id=\"T_2fb3e_row8_col5\" class=\"data row8 col5\" >0.005798</td>\n",
       "      <td id=\"T_2fb3e_row8_col6\" class=\"data row8 col6\" >-0.027308</td>\n",
       "      <td id=\"T_2fb3e_row8_col7\" class=\"data row8 col7\" >-0.021569</td>\n",
       "      <td id=\"T_2fb3e_row8_col8\" class=\"data row8 col8\" >1.000000</td>\n",
       "      <td id=\"T_2fb3e_row8_col9\" class=\"data row8 col9\" >0.001581</td>\n",
       "    </tr>\n",
       "    <tr>\n",
       "      <th id=\"T_2fb3e_level0_row9\" class=\"row_heading level0 row9\" >potability</th>\n",
       "      <td id=\"T_2fb3e_row9_col0\" class=\"data row9 col0\" >-0.004769</td>\n",
       "      <td id=\"T_2fb3e_row9_col1\" class=\"data row9 col1\" >-0.013837</td>\n",
       "      <td id=\"T_2fb3e_row9_col2\" class=\"data row9 col2\" >0.033743</td>\n",
       "      <td id=\"T_2fb3e_row9_col3\" class=\"data row9 col3\" >0.023779</td>\n",
       "      <td id=\"T_2fb3e_row9_col4\" class=\"data row9 col4\" >-0.026672</td>\n",
       "      <td id=\"T_2fb3e_row9_col5\" class=\"data row9 col5\" >-0.008128</td>\n",
       "      <td id=\"T_2fb3e_row9_col6\" class=\"data row9 col6\" >-0.030001</td>\n",
       "      <td id=\"T_2fb3e_row9_col7\" class=\"data row9 col7\" >0.007288</td>\n",
       "      <td id=\"T_2fb3e_row9_col8\" class=\"data row9 col8\" >0.001581</td>\n",
       "      <td id=\"T_2fb3e_row9_col9\" class=\"data row9 col9\" >1.000000</td>\n",
       "    </tr>\n",
       "  </tbody>\n",
       "</table>\n"
      ],
      "text/plain": [
       "<pandas.io.formats.style.Styler at 0x7fd904a08510>"
      ]
     },
     "metadata": {},
     "output_type": "display_data"
    }
   ],
   "source": [
    "# Funkcja do wyświetlania korelacji tylko dla kolumn numerycznych\n",
    "def display_numeric_correlation(df, title):\n",
    "    # Wybierz tylko kolumny numeryczne\n",
    "    numeric_df = df.select_dtypes(include=['int64', 'float64'])\n",
    "\n",
    "    # Sprawdź, czy istnieją kolumny numeryczne do analizy\n",
    "    if numeric_df.shape[1] == 0:\n",
    "        print(\"Brak kolumn numerycznych do analizy.\")\n",
    "        return\n",
    "\n",
    "    # Oblicz korelację tylko dla kolumn numerycznych\n",
    "    correlation_matrix = numeric_df.corr()\n",
    "\n",
    "    # Stylizacja i wyświetlenie wyników\n",
    "    styled_matrix = correlation_matrix.style.background_gradient(cmap=\"Blues\")\n",
    "    print(f\"Correlation: {title}\")\n",
    "    print(f\"Shape: {numeric_df.shape}\")\n",
    "    display(styled_matrix)\n",
    "\n",
    "# Przykład użycia funkcji dla różnych DataFrame\n",
    "display_numeric_correlation(df, \"df\")\n"
   ]
  },
  {
   "cell_type": "code",
   "execution_count": 33,
   "id": "MMWoWtwD_xyw",
   "metadata": {
    "colab": {
     "base_uri": "https://localhost:8080/",
     "height": 648
    },
    "executionInfo": {
     "elapsed": 3460,
     "status": "ok",
     "timestamp": 1702845100812,
     "user": {
      "displayName": "No “NoEM” EM",
      "userId": "18134362320568151074"
     },
     "user_tz": -60
    },
    "id": "MMWoWtwD_xyw",
    "outputId": "850863a2-a341-415f-cf83-d3740fbe76c0"
   },
   "outputs": [
    {
     "data": {
      "image/png": "[encoded data removed]",
      "text/plain": [
       "<Figure size 1000x1000 with 15 Axes>"
      ]
     },
     "metadata": {},
     "output_type": "display_data"
    }
   ],
   "source": [
    "def display_individual_histograms(df, num_cols_per_row=3, figsize=(10, 10), colors=None, alpha=None):\n",
    "    num_cols = df.shape[1]  # Wyłączamy kolumnę 'potability'\n",
    "    num_rows = (num_cols + num_cols_per_row - 1) // num_cols_per_row\n",
    "\n",
    "    # Ustawienia układu wykresów\n",
    "    fig, axs = plt.subplots(nrows=num_rows, ncols=num_cols_per_row, figsize=figsize)\n",
    "\n",
    "    # Wyświetl histogramy dla każdej cechy z podziałem na 'potability'\n",
    "    for i, column in enumerate(df.columns):\n",
    "        row, col = divmod(i, num_cols_per_row)\n",
    "\n",
    "        for potability, color in zip([0, 1], colors):\n",
    "            subset = df[df['potability'] == potability]\n",
    "\n",
    "            # Histogram\n",
    "            axs[row, col].hist(subset[column], bins=20, edgecolor=color, alpha=alpha, label=f'Potability {potability}', histtype=\"step\")\n",
    "\n",
    "        axs[row, col].set_title(f'{column}')\n",
    "        axs[row, col].grid(False)\n",
    "        axs[row, col].legend(fontsize='small', markerscale=0.4)\n",
    "\n",
    "    plt.tight_layout()\n",
    "    plt.show()\n",
    "\n",
    "# Przykład użycia funkcji z niestandardowymi ustawieniami kolorów i wartościami alpha\n",
    "display_individual_histograms(df, colors=['blue', 'orange'], alpha=0.6)\n"
   ]
  },
  {
   "cell_type": "code",
   "execution_count": 34,
   "id": "aA7BxZImSk-z",
   "metadata": {
    "colab": {
     "base_uri": "https://localhost:8080/"
    },
    "executionInfo": {
     "elapsed": 286,
     "status": "ok",
     "timestamp": 1702845107974,
     "user": {
      "displayName": "No “NoEM” EM",
      "userId": "18134362320568151074"
     },
     "user_tz": -60
    },
    "id": "aA7BxZImSk-z",
    "outputId": "4a71888e-027f-4aa8-fc7c-009708778fb6"
   },
   "outputs": [
    {
     "data": {
      "text/plain": [
       "Index(['ph', 'hardness', 'solids', 'chloramines', 'sulfate', 'conductivity',\n",
       "       'organic_carbon', 'trihalomethanes', 'turbidity', 'potability',\n",
       "       'hardness_category', 'hardness_threshold', 'ph_category',\n",
       "       'trihalomethanes_category'],\n",
       "      dtype='object')"
      ]
     },
     "execution_count": 34,
     "metadata": {},
     "output_type": "execute_result"
    }
   ],
   "source": [
    "df.columns"
   ]
  },
  {
   "cell_type": "code",
   "execution_count": 35,
   "id": "_PkHeYyxEEsy",
   "metadata": {
    "executionInfo": {
     "elapsed": 306,
     "status": "ok",
     "timestamp": 1702845109904,
     "user": {
      "displayName": "No “NoEM” EM",
      "userId": "18134362320568151074"
     },
     "user_tz": -60
    },
    "id": "_PkHeYyxEEsy"
   },
   "outputs": [],
   "source": [
    "columns_to_drop = ['hardness_category', 'hardness_threshold', 'ph_category', 'trihalomethanes_category']\n",
    "df = df.drop(columns=columns_to_drop)"
   ]
  },
  {
   "cell_type": "code",
   "execution_count": 37,
   "id": "zGGHLZQgF2NZ",
   "metadata": {
    "colab": {
     "base_uri": "https://localhost:8080/",
     "height": 1000
    },
    "executionInfo": {
     "elapsed": 4493,
     "status": "ok",
     "timestamp": 1702845118274,
     "user": {
      "displayName": "No “NoEM” EM",
      "userId": "18134362320568151074"
     },
     "user_tz": -60
    },
    "id": "zGGHLZQgF2NZ",
    "outputId": "0b7b6a3a-b820-4fed-8c92-5e2039faabfa"
   },
   "outputs": [
    {
     "data": {
      "image/png": "[encoded data removed]",
      "text/plain": [
       "<Figure size 1000x1600 with 12 Axes>"
      ]
     },
     "metadata": {},
     "output_type": "display_data"
    }
   ],
   "source": [
    "def display_boxplots(df, columns_to_analyze, num_cols_per_row=3, figsize=(10, 4)):\n",
    "    # Ustawienia układu wykresów\n",
    "    num_cols = len(columns_to_analyze)\n",
    "    num_rows = (num_cols + num_cols_per_row - 1) // num_cols_per_row\n",
    "    fig, axs = plt.subplots(nrows=num_rows, ncols=num_cols_per_row, figsize=(figsize[0], figsize[1] * num_rows))\n",
    "    fig.subplots_adjust(hspace=0.5)\n",
    "\n",
    "    # Wyświetlenie boxplotów dla każdej kolumny z uwzględnieniem potability\n",
    "    for i, column in enumerate(columns_to_analyze):\n",
    "        row, col = divmod(i, num_cols_per_row)\n",
    "        sns.boxplot(data=df, x='potability', y=column, ax=axs[row, col])\n",
    "        axs[row, col].set_title(f'{column}')\n",
    "        axs[row, col].grid(True)\n",
    "\n",
    "    plt.tight_layout()\n",
    "    plt.show()\n",
    "\n",
    "# Przykład użycia funkcji\n",
    "display_boxplots(df, columns_to_analyze=df.columns)\n"
   ]
  },
  {
   "cell_type": "code",
   "execution_count": 38,
   "id": "PavaQRpOYQeq",
   "metadata": {
    "colab": {
     "base_uri": "https://localhost:8080/"
    },
    "executionInfo": {
     "elapsed": 294,
     "status": "ok",
     "timestamp": 1702845122201,
     "user": {
      "displayName": "No “NoEM” EM",
      "userId": "18134362320568151074"
     },
     "user_tz": -60
    },
    "id": "PavaQRpOYQeq",
    "outputId": "ad948a49-0192-429b-9d55-d785b9b2babb"
   },
   "outputs": [
    {
     "name": "stdout",
     "output_type": "stream",
     "text": [
      "Liczba wartości odstających w każdej kolumnie z podziałem na potability:\n",
      "              ph  hardness  solids  chloramines  sulfate  conductivity  \\\n",
      "potability_0  66        51      29           31      175             8   \n",
      "potability_1  55        26      19           27       83             2   \n",
      "\n",
      "              organic_carbon  trihalomethanes  turbidity  potability  \n",
      "potability_0              16               31          9           0  \n",
      "potability_1               8               22          9           0  \n"
     ]
    }
   ],
   "source": [
    "def count_outliers_by_potability(df, multiplier=1.5):\n",
    "    # Utworzenie ramki danych do zliczania wartości odstających\n",
    "    outliers_count = pd.DataFrame(index=['potability_0', 'potability_1'], columns=df.columns)\n",
    "    outliers_count = outliers_count.fillna(0)\n",
    "\n",
    "    # Iteracja przez kolumny\n",
    "    for column in df.columns:\n",
    "        # Iteracja po wartościach potability (0 i 1)\n",
    "        for potability_value in [0, 1]:\n",
    "            # Wybór danych dla danej kolumny i wartości potability\n",
    "            subset = df[df['potability'] == potability_value][column]\n",
    "\n",
    "            # Obliczenie granic odstających\n",
    "            Q1 = subset.quantile(0.25)\n",
    "            Q3 = subset.quantile(0.75)\n",
    "            IQR = Q3 - Q1\n",
    "            lower_bound = Q1 - multiplier * IQR\n",
    "            upper_bound = Q3 + multiplier * IQR\n",
    "\n",
    "            # Zliczenie wartości odstających\n",
    "            outliers_count.loc[f'potability_{potability_value}', column] = ((subset < lower_bound) | (subset > upper_bound)).sum()\n",
    "\n",
    "    return outliers_count\n",
    "\n",
    "# Przykład użycia funkcji\n",
    "outliers_count = count_outliers_by_potability(df)\n",
    "print(\"Liczba wartości odstających w każdej kolumnie z podziałem na potability:\")\n",
    "print(outliers_count)\n"
   ]
  },
  {
   "cell_type": "code",
   "execution_count": 39,
   "id": "z8NwVZkicL9W",
   "metadata": {
    "colab": {
     "base_uri": "https://localhost:8080/",
     "height": 383
    },
    "executionInfo": {
     "elapsed": 321,
     "status": "ok",
     "timestamp": 1702845130661,
     "user": {
      "displayName": "No “NoEM” EM",
      "userId": "18134362320568151074"
     },
     "user_tz": -60
    },
    "id": "z8NwVZkicL9W",
    "outputId": "ae9f5ec2-c43d-4051-e464-d20fe86cda7e"
   },
   "outputs": [
    {
     "data": {
      "text/html": [
       "<div>\n",
       "<style scoped>\n",
       "    .dataframe tbody tr th:only-of-type {\n",
       "        vertical-align: middle;\n",
       "    }\n",
       "\n",
       "    .dataframe tbody tr th {\n",
       "        vertical-align: top;\n",
       "    }\n",
       "\n",
       "    .dataframe thead th {\n",
       "        text-align: right;\n",
       "    }\n",
       "</style>\n",
       "<table border=\"1\" class=\"dataframe\">\n",
       "  <thead>\n",
       "    <tr style=\"text-align: right;\">\n",
       "      <th></th>\n",
       "      <th>count</th>\n",
       "      <th>mean</th>\n",
       "      <th>std</th>\n",
       "      <th>min</th>\n",
       "      <th>25%</th>\n",
       "      <th>50%</th>\n",
       "      <th>75%</th>\n",
       "      <th>max</th>\n",
       "    </tr>\n",
       "  </thead>\n",
       "  <tbody>\n",
       "    <tr>\n",
       "      <th>ph</th>\n",
       "      <td>2666.0</td>\n",
       "      <td>7.073893</td>\n",
       "      <td>1.216507</td>\n",
       "      <td>3.902476</td>\n",
       "      <td>6.348026</td>\n",
       "      <td>7.116613</td>\n",
       "      <td>7.792306</td>\n",
       "      <td>10.252816</td>\n",
       "    </tr>\n",
       "    <tr>\n",
       "      <th>hardness</th>\n",
       "      <td>2666.0</td>\n",
       "      <td>197.051982</td>\n",
       "      <td>28.366547</td>\n",
       "      <td>118.988579</td>\n",
       "      <td>179.010144</td>\n",
       "      <td>197.561474</td>\n",
       "      <td>215.744047</td>\n",
       "      <td>275.886513</td>\n",
       "    </tr>\n",
       "    <tr>\n",
       "      <th>solids</th>\n",
       "      <td>2666.0</td>\n",
       "      <td>21486.829049</td>\n",
       "      <td>7924.092724</td>\n",
       "      <td>320.942611</td>\n",
       "      <td>15596.765222</td>\n",
       "      <td>20583.142637</td>\n",
       "      <td>26742.195037</td>\n",
       "      <td>44652.363872</td>\n",
       "    </tr>\n",
       "    <tr>\n",
       "      <th>chloramines</th>\n",
       "      <td>2666.0</td>\n",
       "      <td>7.111191</td>\n",
       "      <td>1.413403</td>\n",
       "      <td>3.194969</td>\n",
       "      <td>6.188575</td>\n",
       "      <td>7.114169</td>\n",
       "      <td>8.053054</td>\n",
       "      <td>11.086526</td>\n",
       "    </tr>\n",
       "    <tr>\n",
       "      <th>sulfate</th>\n",
       "      <td>2666.0</td>\n",
       "      <td>333.827894</td>\n",
       "      <td>26.715210</td>\n",
       "      <td>267.202392</td>\n",
       "      <td>319.481628</td>\n",
       "      <td>334.045574</td>\n",
       "      <td>347.921235</td>\n",
       "      <td>400.274579</td>\n",
       "    </tr>\n",
       "    <tr>\n",
       "      <th>conductivity</th>\n",
       "      <td>2666.0</td>\n",
       "      <td>425.811207</td>\n",
       "      <td>79.988085</td>\n",
       "      <td>201.619737</td>\n",
       "      <td>365.641745</td>\n",
       "      <td>421.320293</td>\n",
       "      <td>481.446065</td>\n",
       "      <td>652.537592</td>\n",
       "    </tr>\n",
       "    <tr>\n",
       "      <th>organic_carbon</th>\n",
       "      <td>2666.0</td>\n",
       "      <td>14.305441</td>\n",
       "      <td>3.217070</td>\n",
       "      <td>5.362371</td>\n",
       "      <td>12.082883</td>\n",
       "      <td>14.219418</td>\n",
       "      <td>16.575501</td>\n",
       "      <td>23.234326</td>\n",
       "    </tr>\n",
       "    <tr>\n",
       "      <th>trihalomethanes</th>\n",
       "      <td>2666.0</td>\n",
       "      <td>66.437090</td>\n",
       "      <td>14.898620</td>\n",
       "      <td>27.559355</td>\n",
       "      <td>56.915951</td>\n",
       "      <td>66.320090</td>\n",
       "      <td>76.628761</td>\n",
       "      <td>106.371720</td>\n",
       "    </tr>\n",
       "    <tr>\n",
       "      <th>turbidity</th>\n",
       "      <td>2666.0</td>\n",
       "      <td>3.961669</td>\n",
       "      <td>0.760980</td>\n",
       "      <td>1.872573</td>\n",
       "      <td>3.439135</td>\n",
       "      <td>3.945844</td>\n",
       "      <td>4.494523</td>\n",
       "      <td>6.083772</td>\n",
       "    </tr>\n",
       "    <tr>\n",
       "      <th>potability</th>\n",
       "      <td>2666.0</td>\n",
       "      <td>0.373218</td>\n",
       "      <td>0.483750</td>\n",
       "      <td>0.000000</td>\n",
       "      <td>0.000000</td>\n",
       "      <td>0.000000</td>\n",
       "      <td>1.000000</td>\n",
       "      <td>1.000000</td>\n",
       "    </tr>\n",
       "  </tbody>\n",
       "</table>\n",
       "</div>"
      ],
      "text/plain": [
       "                  count          mean          std         min           25%  \\\n",
       "ph               2666.0      7.073893     1.216507    3.902476      6.348026   \n",
       "hardness         2666.0    197.051982    28.366547  118.988579    179.010144   \n",
       "solids           2666.0  21486.829049  7924.092724  320.942611  15596.765222   \n",
       "chloramines      2666.0      7.111191     1.413403    3.194969      6.188575   \n",
       "sulfate          2666.0    333.827894    26.715210  267.202392    319.481628   \n",
       "conductivity     2666.0    425.811207    79.988085  201.619737    365.641745   \n",
       "organic_carbon   2666.0     14.305441     3.217070    5.362371     12.082883   \n",
       "trihalomethanes  2666.0     66.437090    14.898620   27.559355     56.915951   \n",
       "turbidity        2666.0      3.961669     0.760980    1.872573      3.439135   \n",
       "potability       2666.0      0.373218     0.483750    0.000000      0.000000   \n",
       "\n",
       "                          50%           75%           max  \n",
       "ph                   7.116613      7.792306     10.252816  \n",
       "hardness           197.561474    215.744047    275.886513  \n",
       "solids           20583.142637  26742.195037  44652.363872  \n",
       "chloramines          7.114169      8.053054     11.086526  \n",
       "sulfate            334.045574    347.921235    400.274579  \n",
       "conductivity       421.320293    481.446065    652.537592  \n",
       "organic_carbon      14.219418     16.575501     23.234326  \n",
       "trihalomethanes     66.320090     76.628761    106.371720  \n",
       "turbidity            3.945844      4.494523      6.083772  \n",
       "potability           0.000000      1.000000      1.000000  "
      ]
     },
     "execution_count": 39,
     "metadata": {},
     "output_type": "execute_result"
    }
   ],
   "source": [
    "# Ustawienie warunków progowych dla wszystkich kolumn\n",
    "lower_bounds = df.quantile(0.25) - 1.5 * (df.quantile(0.75) - df.quantile(0.25))\n",
    "upper_bounds = df.quantile(0.75) + 1.5 * (df.quantile(0.75) - df.quantile(0.25))\n",
    "\n",
    "# Zastosowanie warunków progowych do każdej kolumny\n",
    "condition = ((df >= lower_bounds) & (df <= upper_bounds)).all(axis=1)\n",
    "\n",
    "# Usunięcie wierszy, które nie spełniają warunków progowych\n",
    "df_cleaned = df[condition]\n",
    "df_cleaned.describe().T"
   ]
  },
  {
   "cell_type": "code",
   "execution_count": 40,
   "id": "x0I5xoYtcL2L",
   "metadata": {
    "colab": {
     "base_uri": "https://localhost:8080/",
     "height": 1000
    },
    "executionInfo": {
     "elapsed": 3317,
     "status": "ok",
     "timestamp": 1702845138816,
     "user": {
      "displayName": "No “NoEM” EM",
      "userId": "18134362320568151074"
     },
     "user_tz": -60
    },
    "id": "x0I5xoYtcL2L",
    "outputId": "8ecee9d6-cc61-4028-faea-a0de5f5e7be5"
   },
   "outputs": [
    {
     "data": {
      "image/png": "[encoded data removed]",
      "text/plain": [
       "<Figure size 1000x1600 with 12 Axes>"
      ]
     },
     "metadata": {},
     "output_type": "display_data"
    }
   ],
   "source": [
    "def display_boxplots(df, columns_to_analyze, num_cols_per_row=3, figsize=(10, 4)):\n",
    "    # Ustawienia układu wykresów\n",
    "    num_cols = len(columns_to_analyze)\n",
    "    num_rows = (num_cols + num_cols_per_row - 1) // num_cols_per_row\n",
    "    fig, axs = plt.subplots(nrows=num_rows, ncols=num_cols_per_row, figsize=(figsize[0], figsize[1] * num_rows))\n",
    "    fig.subplots_adjust(hspace=0.5)\n",
    "\n",
    "    # Wyświetlenie boxplotów dla każdej kolumny z uwzględnieniem potability\n",
    "    for i, column in enumerate(columns_to_analyze):\n",
    "        row, col = divmod(i, num_cols_per_row)\n",
    "        sns.boxplot(data=df, x='potability', y=column, ax=axs[row, col])\n",
    "        axs[row, col].set_title(f'{column}')\n",
    "        axs[row, col].grid(True)\n",
    "\n",
    "    plt.tight_layout()\n",
    "    plt.show()\n",
    "\n",
    "# Przykład użycia funkcji\n",
    "display_boxplots(df_cleaned, columns_to_analyze=df_cleaned.columns)"
   ]
  },
  {
   "cell_type": "code",
   "execution_count": 41,
   "id": "T4ABFn_KdWkR",
   "metadata": {
    "colab": {
     "base_uri": "https://localhost:8080/"
    },
    "executionInfo": {
     "elapsed": 311,
     "status": "ok",
     "timestamp": 1702845147974,
     "user": {
      "displayName": "No “NoEM” EM",
      "userId": "18134362320568151074"
     },
     "user_tz": -60
    },
    "id": "T4ABFn_KdWkR",
    "outputId": "e9031610-3f0d-47a1-b1b7-1c3f1947ba47"
   },
   "outputs": [
    {
     "name": "stdout",
     "output_type": "stream",
     "text": [
      "Liczba wartości odstających w każdej kolumnie z podziałem na potability:\n",
      "              ph  hardness  solids  chloramines  sulfate  conductivity  \\\n",
      "potability_0  11        17       7           10       99             1   \n",
      "potability_1  30         4       1            4       10             0   \n",
      "\n",
      "              organic_carbon  trihalomethanes  turbidity  potability  \n",
      "potability_0               1                0          2           0  \n",
      "potability_1               0                0          0           0  \n"
     ]
    }
   ],
   "source": [
    "def count_outliers_by_potability(df, multiplier=1.5):\n",
    "    # Utworzenie ramki danych do zliczania wartości odstających\n",
    "    outliers_count = pd.DataFrame(index=['potability_0', 'potability_1'], columns=df.columns)\n",
    "    outliers_count = outliers_count.fillna(0)\n",
    "\n",
    "    # Iteracja przez kolumny\n",
    "    for column in df.columns:\n",
    "        # Iteracja po wartościach potability (0 i 1)\n",
    "        for potability_value in [0, 1]:\n",
    "            # Wybór danych dla danej kolumny i wartości potability\n",
    "            subset = df[df['potability'] == potability_value][column]\n",
    "\n",
    "            # Obliczenie granic odstających\n",
    "            Q1 = subset.quantile(0.25)\n",
    "            Q3 = subset.quantile(0.75)\n",
    "            IQR = Q3 - Q1\n",
    "            lower_bound = Q1 - multiplier * IQR\n",
    "            upper_bound = Q3 + multiplier * IQR\n",
    "\n",
    "            # Zliczenie wartości odstających\n",
    "            outliers_count.loc[f'potability_{potability_value}', column] = ((subset < lower_bound) | (subset > upper_bound)).sum()\n",
    "\n",
    "    return outliers_count\n",
    "\n",
    "# Przykład użycia funkcji\n",
    "outliers_count = count_outliers_by_potability(df_cleaned)\n",
    "print(\"Liczba wartości odstających w każdej kolumnie z podziałem na potability:\")\n",
    "print(outliers_count)\n"
   ]
  },
  {
   "cell_type": "code",
   "execution_count": null,
   "id": "02739a74-afbe-49b2-849b-e5e8747f234c",
   "metadata": {},
   "outputs": [],
   "source": []
  },
  {
   "cell_type": "code",
   "execution_count": null,
   "id": "6e6beab9-849f-4e1d-841d-e2b2d956d8b2",
   "metadata": {},
   "outputs": [],
   "source": []
  },
  {
   "cell_type": "code",
   "execution_count": 43,
   "id": "lf8c0wJzZL-9",
   "metadata": {
    "executionInfo": {
     "elapsed": 328,
     "status": "ok",
     "timestamp": 1702845152594,
     "user": {
      "displayName": "No “NoEM” EM",
      "userId": "18134362320568151074"
     },
     "user_tz": -60
    },
    "id": "lf8c0wJzZL-9"
   },
   "outputs": [],
   "source": [
    "from sklearn.model_selection import train_test_split\n",
    "from sklearn.model_selection import cross_val_score, GridSearchCV\n",
    "\n",
    "from sklearn.metrics import accuracy_score, classification_report, confusion_matrix, roc_auc_score, precision_score, recall_score\n",
    "from sklearn.metrics import mean_squared_error, r2_score, f1_score\n",
    "\n",
    "from sklearn.linear_model import LogisticRegression\n",
    "from sklearn.ensemble import RandomForestClassifier\n",
    "from sklearn.svm import SVC\n",
    "from sklearn.naive_bayes import GaussianNB\n",
    "from sklearn.neighbors import KNeighborsClassifier\n",
    "from xgboost import XGBClassifier\n",
    "\n",
    "from itertools import product\n"
   ]
  },
  {
   "cell_type": "code",
   "execution_count": null,
   "id": "98ba100d-9540-422d-bb05-134122ee20fb",
   "metadata": {
    "executionInfo": {
     "elapsed": 283,
     "status": "ok",
     "timestamp": 1702845088672,
     "user": {
      "displayName": "No “NoEM” EM",
      "userId": "18134362320568151074"
     },
     "user_tz": -60
    },
    "id": "98ba100d-9540-422d-bb05-134122ee20fb"
   },
   "outputs": [],
   "source": [
    "from sklearn.impute import SimpleImputer\n",
    "from sklearn.neighbors import KNeighborsRegressor\n",
    "from sklearn.impute import KNNImputer\n",
    "from sklearn.preprocessing import StandardScaler"
   ]
  },
  {
   "cell_type": "code",
   "execution_count": 44,
   "id": "7v-5XI9TZOb-",
   "metadata": {
    "colab": {
     "base_uri": "https://localhost:8080/"
    },
    "executionInfo": {
     "elapsed": 814,
     "status": "ok",
     "timestamp": 1702845175091,
     "user": {
      "displayName": "No “NoEM” EM",
      "userId": "18134362320568151074"
     },
     "user_tz": -60
    },
    "id": "7v-5XI9TZOb-",
    "outputId": "36466168-3231-4985-ad4c-7144a9077f4b"
   },
   "outputs": [
    {
     "name": "stdout",
     "output_type": "stream",
     "text": [
      "n_dataset = \t\t3276\n",
      "n_train = \t\t1965\t60%\n",
      "n_val = \t\t655\t20%\n",
      "n_test = \t\t656\t20%\n",
      "check of sum:\n",
      "(train + val + test) = \t3276\n"
     ]
    }
   ],
   "source": [
    "# Splitting the DataFrame 'df' into three subsets: training, validation, and testing.\n",
    "df_full_train, df_test, = train_test_split(df, test_size=0.2, random_state=42)\n",
    "df_train, df_val = train_test_split(df_full_train, test_size=0.25, random_state=42)\n",
    "\n",
    "# Przygotowanie danych treningowych i walidacyjnych\n",
    "X_train = df_train.drop('potability', axis=1)\n",
    "y_train = df_train['potability']\n",
    "\n",
    "# Displaying the sizes of different data sets\n",
    "n = len(df)\n",
    "n_full_train = len(df_full_train)\n",
    "n_train = len(df_train)\n",
    "n_val = len(df_val)\n",
    "n_test = len(df_test)\n",
    "\n",
    "print(f\"n_dataset = \\t\\t{n}\")\n",
    "# print(f\"n_full_train = \\t\\t{n_full_train}\")\n",
    "print(f\"n_train = \\t\\t{n_train}\\t{(n_train / n) * 100:.0f}%\")\n",
    "print(f\"n_val = \\t\\t{n_val}\\t{(n_val / n) * 100:.0f}%\")\n",
    "print(f\"n_test = \\t\\t{n_test}\\t{(n_test / n) * 100:.0f}%\")\n",
    "print(f\"check of sum:\\n(train + val + test) = \\t{n_train + n_val + n_test}\")\n",
    "\n"
   ]
  },
  {
   "cell_type": "code",
   "execution_count": 45,
   "id": "tOJ_N3NSdFQW",
   "metadata": {
    "executionInfo": {
     "elapsed": 300,
     "status": "ok",
     "timestamp": 1702845178871,
     "user": {
      "displayName": "No “NoEM” EM",
      "userId": "18134362320568151074"
     },
     "user_tz": -60
    },
    "id": "tOJ_N3NSdFQW"
   },
   "outputs": [],
   "source": [
    "# y_train = df_train[\"potability\"]\n",
    "y_val = df_val[\"potability\"]\n",
    "y_test = df_test[\"potability\"]\n",
    "\n",
    "# del df_train[\"potability\"]\n",
    "del df_val[\"potability\"]\n",
    "del df_test[\"potability\"]"
   ]
  },
  {
   "cell_type": "code",
   "execution_count": 46,
   "id": "bS0N7coZdFSm",
   "metadata": {
    "executionInfo": {
     "elapsed": 3,
     "status": "ok",
     "timestamp": 1702845181855,
     "user": {
      "displayName": "No “NoEM” EM",
      "userId": "18134362320568151074"
     },
     "user_tz": -60
    },
    "id": "bS0N7coZdFSm"
   },
   "outputs": [],
   "source": [
    "# preparation of features_matrices:\n",
    "# X_train = df_train\n",
    "X_val = df_val\n",
    "X_test = df_test"
   ]
  },
  {
   "cell_type": "code",
   "execution_count": 51,
   "id": "TiTvFuzZ0ROJ",
   "metadata": {
    "id": "TiTvFuzZ0ROJ"
   },
   "outputs": [
    {
     "name": "stdout",
     "output_type": "stream",
     "text": [
      "Logistic Regression Evaluation:\n",
      "Accuracy_train: 0.61\n",
      "Confusion Matrix:\n",
      "[[1187    2]\n",
      " [ 766   10]]\n",
      "Classification Report:\n",
      "              precision    recall  f1-score   support\n",
      "\n",
      "           0       0.61      1.00      0.76      1189\n",
      "           1       0.83      0.01      0.03       776\n",
      "\n",
      "    accuracy                           0.61      1965\n",
      "   macro avg       0.72      0.51      0.39      1965\n",
      "weighted avg       0.70      0.61      0.47      1965\n",
      "\n",
      "Accuracy_test: 0.63\n",
      "Confusion Matrix:\n",
      "[[412   0]\n",
      " [243   1]]\n",
      "Classification Report:\n",
      "              precision    recall  f1-score   support\n",
      "\n",
      "           0       0.63      1.00      0.77       412\n",
      "           1       1.00      0.00      0.01       244\n",
      "\n",
      "    accuracy                           0.63       656\n",
      "   macro avg       0.81      0.50      0.39       656\n",
      "weighted avg       0.77      0.63      0.49       656\n",
      "\n",
      "--------------------------------------------------\n",
      "Random Forest Evaluation:\n",
      "Accuracy_train: 1.00\n",
      "Confusion Matrix:\n",
      "[[1189    0]\n",
      " [   0  776]]\n",
      "Classification Report:\n",
      "              precision    recall  f1-score   support\n",
      "\n",
      "           0       1.00      1.00      1.00      1189\n",
      "           1       1.00      1.00      1.00       776\n",
      "\n",
      "    accuracy                           1.00      1965\n",
      "   macro avg       1.00      1.00      1.00      1965\n",
      "weighted avg       1.00      1.00      1.00      1965\n",
      "\n",
      "Accuracy_test: 0.79\n",
      "Confusion Matrix:\n",
      "[[369  43]\n",
      " [ 96 148]]\n",
      "Classification Report:\n",
      "              precision    recall  f1-score   support\n",
      "\n",
      "           0       0.79      0.90      0.84       412\n",
      "           1       0.77      0.61      0.68       244\n",
      "\n",
      "    accuracy                           0.79       656\n",
      "   macro avg       0.78      0.75      0.76       656\n",
      "weighted avg       0.79      0.79      0.78       656\n",
      "\n",
      "--------------------------------------------------\n",
      "Naive Bayes Evaluation:\n",
      "Accuracy_train: 0.63\n",
      "Confusion Matrix:\n",
      "[[1034  155]\n",
      " [ 569  207]]\n",
      "Classification Report:\n",
      "              precision    recall  f1-score   support\n",
      "\n",
      "           0       0.65      0.87      0.74      1189\n",
      "           1       0.57      0.27      0.36       776\n",
      "\n",
      "    accuracy                           0.63      1965\n",
      "   macro avg       0.61      0.57      0.55      1965\n",
      "weighted avg       0.62      0.63      0.59      1965\n",
      "\n",
      "Accuracy_test: 0.63\n",
      "Confusion Matrix:\n",
      "[[355  57]\n",
      " [186  58]]\n",
      "Classification Report:\n",
      "              precision    recall  f1-score   support\n",
      "\n",
      "           0       0.66      0.86      0.75       412\n",
      "           1       0.50      0.24      0.32       244\n",
      "\n",
      "    accuracy                           0.63       656\n",
      "   macro avg       0.58      0.55      0.53       656\n",
      "weighted avg       0.60      0.63      0.59       656\n",
      "\n",
      "--------------------------------------------------\n"
     ]
    }
   ],
   "source": [
    "def evaluate_models(X_train, y_train, X_test, y_test):\n",
    "    # Modele\n",
    "    models = {\n",
    "        \"Logistic Regression\": LogisticRegression(),\n",
    "        \"Random Forest\": RandomForestClassifier(),\n",
    "        # \"Support Vector Machine\": SVC(),\n",
    "        \"Naive Bayes\": GaussianNB(),\n",
    "        # \"K Neighbors (3 neighbors)\": KNeighborsClassifier(n_neighbors=2)  # Dodajemy KNeighborsClassifier z 3 sąsiadami\n",
    "    }\n",
    "\n",
    "    # # Różne wartości parametru C do przetestowania dla modelu SVM\n",
    "    # c_values = [0.001, 0.01, 0.1, 1, 10, 100]\n",
    "\n",
    "    # for c_value in c_values:\n",
    "    #     # Tworzenie i trenowanie modelu SVM z daną wartością C\n",
    "    #     svm_model = SVC(C=c_value)\n",
    "    #     models[f\"SVM (C={c_value})\"] = svm_model\n",
    "\n",
    "    # Trenowanie i ewaluacja modeli<\n",
    "    for model_name, model in models.items():\n",
    "        # Trenowanie modelu\n",
    "        model.fit(X_train, y_train)\n",
    "\n",
    "        # Ewaluacja modelu\n",
    "        train_predictions = model.predict(X_train)\n",
    "        test_prediction = model.predict(X_test)\n",
    "\n",
    "        print(f\"{model_name} Evaluation:\")\n",
    "        train_accuracy = accuracy_score(y_train, train_predictions)\n",
    "        test_accuracy = accuracy_score(y_test, test_prediction)\n",
    "\n",
    "        confusion_matrix_train = confusion_matrix(y_train, train_predictions)\n",
    "        confusion_matrix_test = confusion_matrix(y_test, test_prediction)\n",
    "\n",
    "        classification_report_train = classification_report(y_train, train_predictions)\n",
    "        classification_report_test = classification_report(y_test, test_prediction)\n",
    "\n",
    "        \n",
    "        print(f\"Accuracy_train: {train_accuracy:.2f}\")\n",
    "        print(f\"Confusion Matrix:\\n{confusion_matrix_train}\")\n",
    "        print(f\"Classification Report:\\n{classification_report_train}\")\n",
    "\n",
    "        print(f\"Accuracy_test: {test_accuracy:.2f}\")\n",
    "        print(f\"Confusion Matrix:\\n{confusion_matrix_test}\")\n",
    "        print(f\"Classification Report:\\n{classification_report_test}\")\n",
    "        print(\"-\" * 50)\n",
    "\n",
    "# Wywołanie funkcji z danymi treningowymi i testowymi\n",
    "evaluate_models(X_train, y_train, X_test, y_test)\n"
   ]
  },
  {
   "cell_type": "code",
   "execution_count": 52,
   "id": "CDh1AcYa1w3c",
   "metadata": {
    "colab": {
     "base_uri": "https://localhost:8080/"
    },
    "executionInfo": {
     "elapsed": 4613,
     "status": "ok",
     "timestamp": 1702852807255,
     "user": {
      "displayName": "No “NoEM” EM",
      "userId": "18134362320568151074"
     },
     "user_tz": -60
    },
    "id": "CDh1AcYa1w3c",
    "outputId": "a64f6bb4-72ba-4dd3-c24b-b82b2743b0a9"
   },
   "outputs": [
    {
     "name": "stdout",
     "output_type": "stream",
     "text": [
      "K Neighbors (3 neighbors) Evaluation:\n",
      "Accuracy_train: 0.77\n",
      "Confusion Matrix:\n",
      "[[1020  169]\n",
      " [ 283  493]]\n",
      "Classification Report:\n",
      "              precision    recall  f1-score   support\n",
      "\n",
      "           0       0.78      0.86      0.82      1189\n",
      "           1       0.74      0.64      0.69       776\n",
      "\n",
      "    accuracy                           0.77      1965\n",
      "   macro avg       0.76      0.75      0.75      1965\n",
      "weighted avg       0.77      0.77      0.77      1965\n",
      "\n",
      "Accuracy_test: 0.54\n",
      "Confusion Matrix:\n",
      "[[285 127]\n",
      " [175  69]]\n",
      "Classification Report:\n",
      "              precision    recall  f1-score   support\n",
      "\n",
      "           0       0.62      0.69      0.65       412\n",
      "           1       0.35      0.28      0.31       244\n",
      "\n",
      "    accuracy                           0.54       656\n",
      "   macro avg       0.49      0.49      0.48       656\n",
      "weighted avg       0.52      0.54      0.53       656\n",
      "\n",
      "--------------------------------------------------\n",
      "K Neighbors (5 neighbors) Evaluation:\n",
      "Accuracy_train: 0.72\n",
      "Confusion Matrix:\n",
      "[[1023  166]\n",
      " [ 384  392]]\n",
      "Classification Report:\n",
      "              precision    recall  f1-score   support\n",
      "\n",
      "           0       0.73      0.86      0.79      1189\n",
      "           1       0.70      0.51      0.59       776\n",
      "\n",
      "    accuracy                           0.72      1965\n",
      "   macro avg       0.71      0.68      0.69      1965\n",
      "weighted avg       0.72      0.72      0.71      1965\n",
      "\n",
      "Accuracy_test: 0.55\n",
      "Confusion Matrix:\n",
      "[[295 117]\n",
      " [180  64]]\n",
      "Classification Report:\n",
      "              precision    recall  f1-score   support\n",
      "\n",
      "           0       0.62      0.72      0.67       412\n",
      "           1       0.35      0.26      0.30       244\n",
      "\n",
      "    accuracy                           0.55       656\n",
      "   macro avg       0.49      0.49      0.48       656\n",
      "weighted avg       0.52      0.55      0.53       656\n",
      "\n",
      "--------------------------------------------------\n",
      "K Neighbors (7 neighbors) Evaluation:\n",
      "Accuracy_train: 0.69\n",
      "Confusion Matrix:\n",
      "[[1007  182]\n",
      " [ 428  348]]\n",
      "Classification Report:\n",
      "              precision    recall  f1-score   support\n",
      "\n",
      "           0       0.70      0.85      0.77      1189\n",
      "           1       0.66      0.45      0.53       776\n",
      "\n",
      "    accuracy                           0.69      1965\n",
      "   macro avg       0.68      0.65      0.65      1965\n",
      "weighted avg       0.68      0.69      0.67      1965\n",
      "\n",
      "Accuracy_test: 0.55\n",
      "Confusion Matrix:\n",
      "[[299 113]\n",
      " [179  65]]\n",
      "Classification Report:\n",
      "              precision    recall  f1-score   support\n",
      "\n",
      "           0       0.63      0.73      0.67       412\n",
      "           1       0.37      0.27      0.31       244\n",
      "\n",
      "    accuracy                           0.55       656\n",
      "   macro avg       0.50      0.50      0.49       656\n",
      "weighted avg       0.53      0.55      0.54       656\n",
      "\n",
      "--------------------------------------------------\n",
      "K Neighbors (9 neighbors) Evaluation:\n",
      "Accuracy_train: 0.68\n",
      "Confusion Matrix:\n",
      "[[1027  162]\n",
      " [ 460  316]]\n",
      "Classification Report:\n",
      "              precision    recall  f1-score   support\n",
      "\n",
      "           0       0.69      0.86      0.77      1189\n",
      "           1       0.66      0.41      0.50       776\n",
      "\n",
      "    accuracy                           0.68      1965\n",
      "   macro avg       0.68      0.64      0.64      1965\n",
      "weighted avg       0.68      0.68      0.66      1965\n",
      "\n",
      "Accuracy_test: 0.55\n",
      "Confusion Matrix:\n",
      "[[307 105]\n",
      " [187  57]]\n",
      "Classification Report:\n",
      "              precision    recall  f1-score   support\n",
      "\n",
      "           0       0.62      0.75      0.68       412\n",
      "           1       0.35      0.23      0.28       244\n",
      "\n",
      "    accuracy                           0.55       656\n",
      "   macro avg       0.49      0.49      0.48       656\n",
      "weighted avg       0.52      0.55      0.53       656\n",
      "\n",
      "--------------------------------------------------\n",
      "K Neighbors (11 neighbors) Evaluation:\n",
      "Accuracy_train: 0.67\n",
      "Confusion Matrix:\n",
      "[[1026  163]\n",
      " [ 493  283]]\n",
      "Classification Report:\n",
      "              precision    recall  f1-score   support\n",
      "\n",
      "           0       0.68      0.86      0.76      1189\n",
      "           1       0.63      0.36      0.46       776\n",
      "\n",
      "    accuracy                           0.67      1965\n",
      "   macro avg       0.65      0.61      0.61      1965\n",
      "weighted avg       0.66      0.67      0.64      1965\n",
      "\n",
      "Accuracy_test: 0.59\n",
      "Confusion Matrix:\n",
      "[[332  80]\n",
      " [189  55]]\n",
      "Classification Report:\n",
      "              precision    recall  f1-score   support\n",
      "\n",
      "           0       0.64      0.81      0.71       412\n",
      "           1       0.41      0.23      0.29       244\n",
      "\n",
      "    accuracy                           0.59       656\n",
      "   macro avg       0.52      0.52      0.50       656\n",
      "weighted avg       0.55      0.59      0.55       656\n",
      "\n",
      "--------------------------------------------------\n",
      "SVM (C=0.001) Evaluation:\n",
      "Accuracy_train: 0.61\n",
      "Confusion Matrix:\n",
      "[[1189    0]\n",
      " [ 776    0]]\n",
      "Classification Report:\n",
      "              precision    recall  f1-score   support\n",
      "\n",
      "           0       0.61      1.00      0.75      1189\n",
      "           1       0.00      0.00      0.00       776\n",
      "\n",
      "    accuracy                           0.61      1965\n",
      "   macro avg       0.30      0.50      0.38      1965\n",
      "weighted avg       0.37      0.61      0.46      1965\n",
      "\n",
      "Accuracy_test: 0.63\n",
      "Confusion Matrix:\n",
      "[[412   0]\n",
      " [244   0]]\n",
      "Classification Report:\n",
      "              precision    recall  f1-score   support\n",
      "\n",
      "           0       0.63      1.00      0.77       412\n",
      "           1       0.00      0.00      0.00       244\n",
      "\n",
      "    accuracy                           0.63       656\n",
      "   macro avg       0.31      0.50      0.39       656\n",
      "weighted avg       0.39      0.63      0.48       656\n",
      "\n",
      "--------------------------------------------------\n",
      "SVM (C=0.01) Evaluation:\n",
      "Accuracy_train: 0.61\n",
      "Confusion Matrix:\n",
      "[[1189    0]\n",
      " [ 776    0]]\n",
      "Classification Report:\n",
      "              precision    recall  f1-score   support\n",
      "\n",
      "           0       0.61      1.00      0.75      1189\n",
      "           1       0.00      0.00      0.00       776\n",
      "\n",
      "    accuracy                           0.61      1965\n",
      "   macro avg       0.30      0.50      0.38      1965\n",
      "weighted avg       0.37      0.61      0.46      1965\n",
      "\n",
      "Accuracy_test: 0.63\n",
      "Confusion Matrix:\n",
      "[[412   0]\n",
      " [244   0]]\n",
      "Classification Report:\n",
      "              precision    recall  f1-score   support\n",
      "\n",
      "           0       0.63      1.00      0.77       412\n",
      "           1       0.00      0.00      0.00       244\n",
      "\n",
      "    accuracy                           0.63       656\n",
      "   macro avg       0.31      0.50      0.39       656\n",
      "weighted avg       0.39      0.63      0.48       656\n",
      "\n",
      "--------------------------------------------------\n",
      "SVM (C=0.1) Evaluation:\n",
      "Accuracy_train: 0.61\n",
      "Confusion Matrix:\n",
      "[[1189    0]\n",
      " [ 776    0]]\n",
      "Classification Report:\n",
      "              precision    recall  f1-score   support\n",
      "\n",
      "           0       0.61      1.00      0.75      1189\n",
      "           1       0.00      0.00      0.00       776\n",
      "\n",
      "    accuracy                           0.61      1965\n",
      "   macro avg       0.30      0.50      0.38      1965\n",
      "weighted avg       0.37      0.61      0.46      1965\n",
      "\n",
      "Accuracy_test: 0.63\n",
      "Confusion Matrix:\n",
      "[[412   0]\n",
      " [244   0]]\n",
      "Classification Report:\n",
      "              precision    recall  f1-score   support\n",
      "\n",
      "           0       0.63      1.00      0.77       412\n",
      "           1       0.00      0.00      0.00       244\n",
      "\n",
      "    accuracy                           0.63       656\n",
      "   macro avg       0.31      0.50      0.39       656\n",
      "weighted avg       0.39      0.63      0.48       656\n",
      "\n",
      "--------------------------------------------------\n",
      "SVM (C=1) Evaluation:\n",
      "Accuracy_train: 0.61\n",
      "Confusion Matrix:\n",
      "[[1187    2]\n",
      " [ 773    3]]\n",
      "Classification Report:\n",
      "              precision    recall  f1-score   support\n",
      "\n",
      "           0       0.61      1.00      0.75      1189\n",
      "           1       0.60      0.00      0.01       776\n",
      "\n",
      "    accuracy                           0.61      1965\n",
      "   macro avg       0.60      0.50      0.38      1965\n",
      "weighted avg       0.60      0.61      0.46      1965\n",
      "\n",
      "Accuracy_test: 0.63\n",
      "Confusion Matrix:\n",
      "[[411   1]\n",
      " [244   0]]\n",
      "Classification Report:\n",
      "              precision    recall  f1-score   support\n",
      "\n",
      "           0       0.63      1.00      0.77       412\n",
      "           1       0.00      0.00      0.00       244\n",
      "\n",
      "    accuracy                           0.63       656\n",
      "   macro avg       0.31      0.50      0.39       656\n",
      "weighted avg       0.39      0.63      0.48       656\n",
      "\n",
      "--------------------------------------------------\n",
      "SVM (C=10) Evaluation:\n",
      "Accuracy_train: 0.61\n",
      "Confusion Matrix:\n",
      "[[1185    4]\n",
      " [ 769    7]]\n",
      "Classification Report:\n",
      "              precision    recall  f1-score   support\n",
      "\n",
      "           0       0.61      1.00      0.75      1189\n",
      "           1       0.64      0.01      0.02       776\n",
      "\n",
      "    accuracy                           0.61      1965\n",
      "   macro avg       0.62      0.50      0.39      1965\n",
      "weighted avg       0.62      0.61      0.46      1965\n",
      "\n",
      "Accuracy_test: 0.63\n",
      "Confusion Matrix:\n",
      "[[411   1]\n",
      " [243   1]]\n",
      "Classification Report:\n",
      "              precision    recall  f1-score   support\n",
      "\n",
      "           0       0.63      1.00      0.77       412\n",
      "           1       0.50      0.00      0.01       244\n",
      "\n",
      "    accuracy                           0.63       656\n",
      "   macro avg       0.56      0.50      0.39       656\n",
      "weighted avg       0.58      0.63      0.49       656\n",
      "\n",
      "--------------------------------------------------\n",
      "SVM (C=100) Evaluation:\n",
      "Accuracy_train: 0.61\n",
      "Confusion Matrix:\n",
      "[[1182    7]\n",
      " [ 761   15]]\n",
      "Classification Report:\n",
      "              precision    recall  f1-score   support\n",
      "\n",
      "           0       0.61      0.99      0.75      1189\n",
      "           1       0.68      0.02      0.04       776\n",
      "\n",
      "    accuracy                           0.61      1965\n",
      "   macro avg       0.65      0.51      0.40      1965\n",
      "weighted avg       0.64      0.61      0.47      1965\n",
      "\n",
      "Accuracy_test: 0.63\n",
      "Confusion Matrix:\n",
      "[[411   1]\n",
      " [241   3]]\n",
      "Classification Report:\n",
      "              precision    recall  f1-score   support\n",
      "\n",
      "           0       0.63      1.00      0.77       412\n",
      "           1       0.75      0.01      0.02       244\n",
      "\n",
      "    accuracy                           0.63       656\n",
      "   macro avg       0.69      0.50      0.40       656\n",
      "weighted avg       0.67      0.63      0.49       656\n",
      "\n",
      "--------------------------------------------------\n"
     ]
    }
   ],
   "source": [
    "# Defining a function to evaluate different machine learning models\n",
    "def evaluate_models(X_train, y_train, X_test, y_test):\n",
    "    # Different values of the n_neighbors parameter to test for the KNeighborsClassifier model\n",
    "    n_neighbors_values = [3, 5, 7, 9, 11]\n",
    "    models = {}\n",
    "\n",
    "    # Creating K Neighbors Classifier models with varying n_neighbors values\n",
    "    for n_neighbors_value in n_neighbors_values:\n",
    "        knn_model = KNeighborsClassifier(n_neighbors=n_neighbors_value)\n",
    "        models[f\"K Neighbors ({n_neighbors_value} neighbors)\"] = knn_model\n",
    "\n",
    "    # Different values of the C parameter to test for the SVM model\n",
    "    c_values = [0.001, 0.01, 0.1, 1, 10, 100]\n",
    "\n",
    "    # Creating Support Vector Machine (SVM) models with varying C values\n",
    "    for c_value in c_values:\n",
    "        svm_model = SVC(C=c_value)\n",
    "        models[f\"SVM (C={c_value})\"] = svm_model\n",
    "\n",
    "    # Training and evaluating models\n",
    "    for model_name, model in models.items():\n",
    "        # Training the model on the training data\n",
    "        model.fit(X_train, y_train)\n",
    "\n",
    "        # Making predictions on both the training and testing data\n",
    "        train_predictions = model.predict(X_train)\n",
    "        test_predictions = model.predict(X_test)\n",
    "\n",
    "        # Printing evaluation metrics for each model\n",
    "        print(f\"{model_name} Evaluation:\")\n",
    "        train_accuracy = accuracy_score(y_train, train_predictions)\n",
    "        test_accuracy = accuracy_score(y_test, test_predictions)\n",
    "\n",
    "        confusion_matrix_train = confusion_matrix(y_train, train_predictions)\n",
    "        confusion_matrix_test = confusion_matrix(y_test, test_predictions)\n",
    "\n",
    "        classification_report_train = classification_report(y_train, train_predictions)\n",
    "        classification_report_test = classification_report(y_test, test_predictions)\n",
    "\n",
    "        # Printing accuracy, confusion matrix, and classification report for training data\n",
    "        print(f\"Accuracy_train: {train_accuracy:.2f}\")\n",
    "        print(f\"Confusion Matrix (Train):\\n{confusion_matrix_train}\")\n",
    "        print(f\"Classification Report (Train):\\n{classification_report_train}\")\n",
    "\n",
    "        # Printing accuracy, confusion matrix, and classification report for testing data\n",
    "        print(f\"Accuracy_test: {test_accuracy:.2f}\")\n",
    "        print(f\"Confusion Matrix (Test):\\n{confusion_matrix_test}\")\n",
    "        print(f\"Classification Report (Test):\\n{classification_report_test}\")\n",
    "        print(\"-\" * 50)\n",
    "\n",
    "# Calling the function with training and testing data\n",
    "evaluate_models(X_train, y_train, X_test, y_test)"
   ]
  },
  {
   "cell_type": "code",
   "execution_count": 57,
   "id": "GUDmxOKbYcaQ",
   "metadata": {
    "colab": {
     "base_uri": "https://localhost:8080/"
    },
    "executionInfo": {
     "elapsed": 305562,
     "status": "ok",
     "timestamp": 1702850101466,
     "user": {
      "displayName": "No “NoEM” EM",
      "userId": "18134362320568151074"
     },
     "user_tz": -60
    },
    "id": "GUDmxOKbYcaQ",
    "outputId": "3a4ba0d6-e28d-405b-fc49-6a00ec15a48d"
   },
   "outputs": [
    {
     "name": "stdout",
     "output_type": "stream",
     "text": [
      "CV=2, Best Hyperparameters: {'eta': 0.1, 'max_depth': 6, 'min_child_weight': 3, 'n_estimators': 25, 'subsample': 0.7}\n",
      "CV=2, Mean Accuracy on Training Set: 0.7821892746963139\n",
      "CV=2, Mean Accuracy on Test Set: 0.698170731707317\n",
      "CV=2, Mean Squared Error (MSE) on Training Set: 0.2178107253036861\n",
      "CV=2, Mean Squared Error (MSE) on Test Set: 0.3018292682926829\n",
      "CV=3, Best Hyperparameters: {'eta': 0.1, 'max_depth': 6, 'min_child_weight': 3, 'n_estimators': 25, 'subsample': 0.7}\n",
      "CV=3, Mean Accuracy on Training Set: 0.7944020356234097\n",
      "CV=3, Mean Accuracy on Test Set: 0.7073017468895312\n",
      "CV=3, Mean Squared Error (MSE) on Training Set: 0.20559796437659036\n",
      "CV=3, Mean Squared Error (MSE) on Test Set: 0.29269825311046876\n",
      "CV=4, Best Hyperparameters: {'eta': 0.1, 'max_depth': 5, 'min_child_weight': 1, 'n_estimators': 100, 'subsample': 0.5}\n",
      "CV=4, Mean Accuracy on Training Set: 0.7918550163098372\n",
      "CV=4, Mean Accuracy on Test Set: 0.7164634146341463\n",
      "CV=4, Mean Squared Error (MSE) on Training Set: 0.20814498369016277\n",
      "CV=4, Mean Squared Error (MSE) on Test Set: 0.2835365853658537\n",
      "CV=5, Best Hyperparameters: {'eta': 0.1, 'max_depth': 6, 'min_child_weight': 1, 'n_estimators': 25, 'subsample': 0.7}\n",
      "CV=5, Mean Accuracy on Training Set: 0.7862595419847328\n",
      "CV=5, Mean Accuracy on Test Set: 0.737855655794587\n",
      "CV=5, Mean Squared Error (MSE) on Training Set: 0.21374045801526717\n",
      "CV=5, Mean Squared Error (MSE) on Test Set: 0.2621443442054129\n"
     ]
    }
   ],
   "source": [
    "def evaluate_model_cv(X_train, y_train, X_test, y_test, hyperparameters, cv_values):\n",
    "    for cv in cv_values:\n",
    "        # Przeszukiwanie siatki\n",
    "        model = XGBClassifier()\n",
    "        grid_search = GridSearchCV(model, hyperparameters, cv=cv, scoring='accuracy')\n",
    "        grid_search.fit(X_train, y_train)\n",
    "\n",
    "        # Najlepsze znalezione hiperparametry\n",
    "        best_params = grid_search.best_params_\n",
    "        print(f'CV={cv}, Best Hyperparameters: {best_params}')\n",
    "\n",
    "        # Ewaluacja modelu z najlepszymi hiperparametrami za pomocą cross_val_score\n",
    "        model_with_best_params = XGBClassifier(**best_params)\n",
    "\n",
    "        # Walidacja krzyżowa dla danych treningowych\n",
    "        scores_train = cross_val_score(model_with_best_params, X_train, y_train, cv=cv, scoring='accuracy')\n",
    "        mean_accuracy_train = scores_train.mean()\n",
    "\n",
    "        # Walidacja krzyżowa dla danych testowych\n",
    "        scores_test = cross_val_score(model_with_best_params, X_test, y_test, cv=cv, scoring='accuracy')\n",
    "        mean_accuracy_test = scores_test.mean()\n",
    "\n",
    "        # Wyświetlenie wyników Accuracy\n",
    "        print(f'CV={cv}, Mean Accuracy on Training Set: {mean_accuracy_train}')\n",
    "        print(f'CV={cv}, Mean Accuracy on Test Set: {mean_accuracy_test}')\n",
    "\n",
    "        # Wyświetlenie wyników MSE\n",
    "        mse_train = -cross_val_score(model_with_best_params, X_train, y_train, cv=cv, scoring='neg_mean_squared_error')\n",
    "        mse_test = -cross_val_score(model_with_best_params, X_test, y_test, cv=cv, scoring='neg_mean_squared_error')\n",
    "        mean_mse_train = mse_train.mean()\n",
    "        mean_mse_test = mse_test.mean()\n",
    "\n",
    "        print(f'CV={cv}, Mean Squared Error (MSE) on Training Set: {mean_mse_train}')\n",
    "        print(f'CV={cv}, Mean Squared Error (MSE) on Test Set: {mean_mse_test}')\n",
    "\n",
    "        # Tworzenie wykresu\n",
    "        param_combinations = list(product(*hyperparameters.values()))\n",
    "        param_combinations_str = [str(params) for params in param_combinations]\n",
    "\n",
    "\n",
    "# Przykład użycia\n",
    "hyperparameters = {\n",
    "    'eta': [0.01, 0.1, 0.2, 0.5, 1],\n",
    "    'n_estimators': [15, 25 , 50, 75, 100],\n",
    "    'max_depth': [3, 4, 5, 6, 7],\n",
    "    'min_child_weight': [1, 3, 5, 7, 10],\n",
    "    'subsample': [0.2, 0.5, 0.7]\n",
    "}\n",
    "\n",
    "# X_train, y_train to dane treningowe, X_test, y_test to dane testowe\n",
    "evaluate_model_cv(X_train, y_train, X_test, y_test, hyperparameters, cv_values=[2, 3, 4, 5])\n"
   ]
  },
  {
   "cell_type": "code",
   "execution_count": 69,
   "id": "9b13b937-03d0-47d9-b59b-e8a390f4e047",
   "metadata": {},
   "outputs": [
    {
     "name": "stdout",
     "output_type": "stream",
     "text": [
      "XGBoost Evaluation on Training Set:\n",
      "Accuracy_train: 0.87\n",
      "Confusion Matrix:\n",
      "[[1113   76]\n",
      " [ 186  590]]\n",
      "Classification Report:\n",
      "              precision    recall  f1-score   support\n",
      "\n",
      "           0       0.86      0.94      0.89      1189\n",
      "           1       0.89      0.76      0.82       776\n",
      "\n",
      "    accuracy                           0.87      1965\n",
      "   macro avg       0.87      0.85      0.86      1965\n",
      "weighted avg       0.87      0.87      0.86      1965\n",
      "\n",
      "XGBoost Evaluation on Validation Set:\n",
      "Accuracy_test: 0.78\n",
      "Confusion Matrix:\n",
      "[[348  49]\n",
      " [ 97 161]]\n",
      "Classification Report:\n",
      "              precision    recall  f1-score   support\n",
      "\n",
      "           0       0.78      0.88      0.83       397\n",
      "           1       0.77      0.62      0.69       258\n",
      "\n",
      "    accuracy                           0.78       655\n",
      "   macro avg       0.77      0.75      0.76       655\n",
      "weighted avg       0.78      0.78      0.77       655\n",
      "\n",
      "Train MSE: 0.13333333333333333\n",
      "Validation MSE: 0.22290076335877862\n"
     ]
    }
   ],
   "source": [
    "# Najlepsze hiperparametry uzyskane z kroswalidacji\n",
    "best_hyperparameters = {'eta': 0.1, 'max_depth': 6, 'min_child_weight': 3, 'n_estimators': 25, 'subsample': 0.7}\n",
    "\n",
    "# Tworzenie modelu XGBoost z najlepszymi hiperparametrami\n",
    "model_xgbCl = XGBClassifier(\n",
    "    learning_rate=best_hyperparameters['eta'],\n",
    "    max_depth=best_hyperparameters['max_depth'],\n",
    "    min_child_weight=best_hyperparameters['min_child_weight'],\n",
    "    n_estimators=best_hyperparameters['n_estimators'],\n",
    "    subsample=best_hyperparameters['subsample']\n",
    ")\n",
    "\n",
    "# Trenowanie modelu na danych treningowych\n",
    "model_xgbCl.fit(X_train, y_train)\n",
    "\n",
    "# Przewidywanie na danych treningowych\n",
    "predictions_train = model_xgbCl.predict(X_train)\n",
    "\n",
    "# Przewidywanie na danych walidacyjnych\n",
    "predictions_val = model_xgbCl.predict(X_val)\n",
    "\n",
    "# Ocena modelu na danych treningowych\n",
    "train_accuracy = accuracy_score(y_train, predictions_train)\n",
    "train_mse = mean_squared_error(y_train, predictions_train)\n",
    "\n",
    "# Ocena modelu na danych walidacyjnych\n",
    "valid_accuracy = accuracy_score(y_val, predictions_val)\n",
    "valid_mse = mean_squared_error(y_val, predictions_val)\n",
    "\n",
    "\n",
    "# Ewaluacja modelu na zbiorze treningowym\n",
    "print(\"XGBoost Evaluation on Training Set:\")\n",
    "accuracy_train = accuracy_score(y_train, predictions_train)\n",
    "print(f\"Accuracy_train: {accuracy_train:.2f}\")\n",
    "print(f\"Confusion Matrix:\\n{confusion_matrix(y_train, predictions_train)}\")\n",
    "print(f\"Classification Report:\\n{classification_report(y_train, predictions_train)}\")\n",
    "\n",
    "# Ewaluacja modelu na zbiorze testowym\n",
    "print(\"XGBoost Evaluation on Validation Set:\")\n",
    "accuracy_test = accuracy_score(y_val, predictions_val)\n",
    "print(f\"Accuracy_test: {accuracy_test:.2f}\")\n",
    "print(f\"Confusion Matrix:\\n{confusion_matrix(y_val, predictions_val)}\")\n",
    "print(f\"Classification Report:\\n{classification_report(y_val, predictions_val)}\")\n",
    "\n",
    "print(f\"Train MSE: {train_mse}\")\n",
    "print(f\"Validation MSE: {valid_mse}\")"
   ]
  },
  {
   "cell_type": "code",
   "execution_count": 66,
   "id": "3kYX2KzVtT-B",
   "metadata": {
    "colab": {
     "base_uri": "https://localhost:8080/"
    },
    "executionInfo": {
     "elapsed": 4,
     "status": "ok",
     "timestamp": 1702852901394,
     "user": {
      "displayName": "No “NoEM” EM",
      "userId": "18134362320568151074"
     },
     "user_tz": -60
    },
    "id": "3kYX2KzVtT-B",
    "outputId": "df4c706b-9c08-445d-9ec6-216628e9852e"
   },
   "outputs": [
    {
     "name": "stdout",
     "output_type": "stream",
     "text": [
      "XGBoost Evaluation on Training Set:\n",
      "Accuracy_train: 0.90\n",
      "Confusion Matrix:\n",
      "[[1137   52]\n",
      " [ 152  624]]\n",
      "Classification Report:\n",
      "              precision    recall  f1-score   support\n",
      "\n",
      "           0       0.88      0.96      0.92      1189\n",
      "           1       0.92      0.80      0.86       776\n",
      "\n",
      "    accuracy                           0.90      1965\n",
      "   macro avg       0.90      0.88      0.89      1965\n",
      "weighted avg       0.90      0.90      0.89      1965\n",
      "\n",
      "XGBoost Evaluation on Test Set:\n",
      "Accuracy_test: 0.79\n",
      "Confusion Matrix:\n",
      "[[364  48]\n",
      " [ 91 153]]\n",
      "Classification Report:\n",
      "              precision    recall  f1-score   support\n",
      "\n",
      "           0       0.80      0.88      0.84       412\n",
      "           1       0.76      0.63      0.69       244\n",
      "\n",
      "    accuracy                           0.79       656\n",
      "   macro avg       0.78      0.76      0.76       656\n",
      "weighted avg       0.79      0.79      0.78       656\n",
      "\n"
     ]
    }
   ],
   "source": [
    "# Definicja hiperparametrów\n",
    "xgb_params = {\n",
    "    'n_estimators': 50,\n",
    "    'eta': 0.1,\n",
    "    'max_depth': 7,\n",
    "    'min_child_weight': 6,\n",
    "    'subsample': 0.7\n",
    "}\n",
    "\n",
    "# Inicjalizacja modelu z zadanymi hiperparametrami\n",
    "model_xgbCl = XGBClassifier(**xgb_params)\n",
    "\n",
    "# Trenowanie modelu\n",
    "model_xgbCl.fit(X_train, y_train)\n",
    "\n",
    "# Predykcja na zbiorze testowym\n",
    "predictions_train = model_xgbCl.predict(X_train)\n",
    "predictions_test = model_xgbCl.predict(X_test)\n",
    "\n",
    "# Ewaluacja modelu na zbiorze treningowym\n",
    "print(\"XGBoost Evaluation on Training Set:\")\n",
    "accuracy_train = accuracy_score(y_train, predictions_train)\n",
    "print(f\"Accuracy_train: {accuracy_train:.2f}\")\n",
    "print(f\"Confusion Matrix:\\n{confusion_matrix(y_train, predictions_train)}\")\n",
    "print(f\"Classification Report:\\n{classification_report(y_train, predictions_train)}\")\n",
    "\n",
    "# Ewaluacja modelu na zbiorze testowym\n",
    "print(\"XGBoost Evaluation on Test Set:\")\n",
    "accuracy_test = accuracy_score(y_test, predictions_test)\n",
    "print(f\"Accuracy_test: {accuracy_test:.2f}\")\n",
    "print(f\"Confusion Matrix:\\n{confusion_matrix(y_test, predictions_test)}\")\n",
    "print(f\"Classification Report:\\n{classification_report(y_test, predictions_test)}\")"
   ]
  },
  {
   "cell_type": "code",
   "execution_count": null,
   "id": "6A5J3youdFVT",
   "metadata": {
    "colab": {
     "base_uri": "https://localhost:8080/"
    },
    "executionInfo": {
     "elapsed": 251,
     "status": "ok",
     "timestamp": 1702825318532,
     "user": {
      "displayName": "No “NoEM” EM",
      "userId": "18134362320568151074"
     },
     "user_tz": -60
    },
    "id": "6A5J3youdFVT",
    "outputId": "9131ce50-3d7f-4eee-b064-ed86ba610155"
   },
   "outputs": [],
   "source": [
    "df.iloc[10]"
   ]
  },
  {
   "cell_type": "markdown",
   "id": "Ov5AEGsPxVXL",
   "metadata": {
    "id": "Ov5AEGsPxVXL"
   },
   "source": [
    "Using model"
   ]
  },
  {
   "cell_type": "code",
   "execution_count": null,
   "id": "9r8c1bJpxUo9",
   "metadata": {
    "colab": {
     "base_uri": "https://localhost:8080/",
     "height": 226
    },
    "executionInfo": {
     "elapsed": 676,
     "status": "ok",
     "timestamp": 1702853117211,
     "user": {
      "displayName": "No “NoEM” EM",
      "userId": "18134362320568151074"
     },
     "user_tz": -60
    },
    "id": "9r8c1bJpxUo9",
    "outputId": "668e8616-5198-41a5-8536-2ce6eb80652d"
   },
   "outputs": [],
   "source": [
    "# Use the model to make predictions\n",
    "pred_data = X_val[50:55]\n",
    "pred_data"
   ]
  },
  {
   "cell_type": "code",
   "execution_count": null,
   "id": "NfCzmSXNxkCR",
   "metadata": {
    "executionInfo": {
     "elapsed": 270,
     "status": "ok",
     "timestamp": 1702853354748,
     "user": {
      "displayName": "No “NoEM” EM",
      "userId": "18134362320568151074"
     },
     "user_tz": -60
    },
    "id": "NfCzmSXNxkCR"
   },
   "outputs": [],
   "source": [
    "# Make a prediction for woter potablity using a XGBostClasifier model\n",
    "prediction_water_potability = model_xgbCl.predict([[7.360640, 165.520797, 32452.614409, 7.550701, 326.624353, 425.383419, 15.586810, 78.740016, 3.662292]])\n"
   ]
  },
  {
   "cell_type": "code",
   "execution_count": null,
   "id": "uwWwJmA2x_Lp",
   "metadata": {
    "colab": {
     "base_uri": "https://localhost:8080/"
    },
    "executionInfo": {
     "elapsed": 301,
     "status": "ok",
     "timestamp": 1702853425434,
     "user": {
      "displayName": "No “NoEM” EM",
      "userId": "18134362320568151074"
     },
     "user_tz": -60
    },
    "id": "uwWwJmA2x_Lp",
    "outputId": "e3659c03-3eb8-4f6e-c010-53d777b26bb3"
   },
   "outputs": [],
   "source": [
    "# Define milk quality labels\n",
    "water_potability_labels = [\"undrinkable\", \"drinkable\"]\n",
    "\n",
    "# Iterate through the predictions for milk quality\n",
    "for prediction in prediction_water_potability:\n",
    "    # Check if the prediction falls within the valid label indices\n",
    "    if 0 <= prediction < len(water_potability_labels):\n",
    "        # Print the corresponding milk quality label based on the prediction\n",
    "        print(f\"The water quality is '{water_potability_labels[prediction]}'\")\n",
    "    else:\n",
    "        # Handle cases where the prediction is outside the valid range\n",
    "        print(\"Invalid water quality prediction\")"
   ]
  },
  {
   "cell_type": "code",
   "execution_count": null,
   "id": "NUYtQsTq-z-a",
   "metadata": {
    "colab": {
     "base_uri": "https://localhost:8080/"
    },
    "executionInfo": {
     "elapsed": 5,
     "status": "ok",
     "timestamp": 1702853562398,
     "user": {
      "displayName": "No “NoEM” EM",
      "userId": "18134362320568151074"
     },
     "user_tz": -60
    },
    "id": "NUYtQsTq-z-a",
    "outputId": "33e34fa2-06cb-4e23-e0f3-ca633ce5a89e"
   },
   "outputs": [],
   "source": [
    "from sklearn.metrics import accuracy_score\n",
    "\n",
    "# Assuming prediction_water_potability contains the predicted labels for water potability\n",
    "\n",
    "# Define water potability labels\n",
    "water_potability_labels = [\"undrinkable\", \"drinkable\"]\n",
    "\n",
    "# Convert labels to numerical values for calculation\n",
    "numerical_labels = [water_potability_labels.index(label) for label in water_potability_labels]\n",
    "\n",
    "# Calculate the percentage of predictions for each class\n",
    "percentage_drinkable = sum(prediction == numerical_labels[1] for prediction in prediction_water_potability) / len(prediction_water_potability) * 100\n",
    "percentage_undrinkable = 100 - percentage_drinkable\n",
    "\n",
    "# Print the results\n",
    "print(f\"Percentage of 'undrinkable' predictions: {percentage_undrinkable:.2f}%\")\n",
    "print(f\"Percentage of 'drinkable' predictions: {percentage_drinkable:.2f}%\")\n"
   ]
  },
  {
   "cell_type": "markdown",
   "id": "zaYBMUM-4fE4",
   "metadata": {
    "id": "zaYBMUM-4fE4"
   },
   "source": [
    "Save the mode"
   ]
  },
  {
   "cell_type": "code",
   "execution_count": null,
   "id": "60RNpCzY4b2y",
   "metadata": {
    "executionInfo": {
     "elapsed": 321,
     "status": "ok",
     "timestamp": 1702854412935,
     "user": {
      "displayName": "No “NoEM” EM",
      "userId": "18134362320568151074"
     },
     "user_tz": -60
    },
    "id": "60RNpCzY4b2y"
   },
   "outputs": [],
   "source": [
    "import pickle\n",
    "import os"
   ]
  },
  {
   "cell_type": "code",
   "execution_count": null,
   "id": "U1pdQ6tY4lkP",
   "metadata": {
    "executionInfo": {
     "elapsed": 274,
     "status": "ok",
     "timestamp": 1702853642765,
     "user": {
      "displayName": "No “NoEM” EM",
      "userId": "18134362320568151074"
     },
     "user_tz": -60
    },
    "id": "U1pdQ6tY4lkP"
   },
   "outputs": [],
   "source": [
    "output_file = f\"model_wpp.pkl\""
   ]
  },
  {
   "cell_type": "code",
   "execution_count": null,
   "id": "bxj4kWfg4q7Q",
   "metadata": {
    "colab": {
     "base_uri": "https://localhost:8080/",
     "height": 35
    },
    "executionInfo": {
     "elapsed": 292,
     "status": "ok",
     "timestamp": 1702853645288,
     "user": {
      "displayName": "No “NoEM” EM",
      "userId": "18134362320568151074"
     },
     "user_tz": -60
    },
    "id": "bxj4kWfg4q7Q",
    "outputId": "34ad5069-f6f8-4de9-c055-784683cf38de"
   },
   "outputs": [],
   "source": [
    "output_file"
   ]
  },
  {
   "cell_type": "code",
   "execution_count": null,
   "id": "iyK6MNcr4vQ8",
   "metadata": {
    "executionInfo": {
     "elapsed": 271,
     "status": "ok",
     "timestamp": 1702853648752,
     "user": {
      "displayName": "No “NoEM” EM",
      "userId": "18134362320568151074"
     },
     "user_tz": -60
    },
    "id": "iyK6MNcr4vQ8"
   },
   "outputs": [],
   "source": [
    "f_out = open(output_file, \"wb\")\n",
    "pickle.dump(model_xgbCl, f_out)\n",
    "f_out.close()"
   ]
  },
  {
   "cell_type": "code",
   "execution_count": null,
   "id": "-9B7NJbk4yx2",
   "metadata": {
    "colab": {
     "base_uri": "https://localhost:8080/"
    },
    "executionInfo": {
     "elapsed": 309,
     "status": "ok",
     "timestamp": 1702853651369,
     "user": {
      "displayName": "No “NoEM” EM",
      "userId": "18134362320568151074"
     },
     "user_tz": -60
    },
    "id": "-9B7NJbk4yx2",
    "outputId": "a3b35103-3284-4326-e172-c10e7ba8fd64"
   },
   "outputs": [],
   "source": [
    "!ls -lh *.pkl"
   ]
  },
  {
   "cell_type": "code",
   "execution_count": null,
   "id": "EsFmvmqz4-Eb",
   "metadata": {
    "colab": {
     "base_uri": "https://localhost:8080/"
    },
    "executionInfo": {
     "elapsed": 270,
     "status": "ok",
     "timestamp": 1702853659128,
     "user": {
      "displayName": "No “NoEM” EM",
      "userId": "18134362320568151074"
     },
     "user_tz": -60
    },
    "id": "EsFmvmqz4-Eb",
    "outputId": "a3976ea4-d1dd-4123-b60f-27daac6633c9"
   },
   "outputs": [],
   "source": [
    "# Get the full path to the saved file\n",
    "output_filepath = os.path.abspath(output_file)\n",
    "\n",
    "# Display the saved model's name and its full path\n",
    "print(f\"Saved the model as: {output_file}\")\n",
    "print(f\"Full path to the saved model: {output_filepath}\")"
   ]
  },
  {
   "cell_type": "code",
   "execution_count": null,
   "id": "3q1kL8Mo5AOx",
   "metadata": {
    "executionInfo": {
     "elapsed": 292,
     "status": "ok",
     "timestamp": 1702853694137,
     "user": {
      "displayName": "No “NoEM” EM",
      "userId": "18134362320568151074"
     },
     "user_tz": -60
    },
    "id": "3q1kL8Mo5AOx"
   },
   "outputs": [],
   "source": [
    "with open(output_file, \"wb\") as f_out:\n",
    "    pickle.dump(model_xgbCl, f_out)"
   ]
  },
  {
   "cell_type": "code",
   "execution_count": null,
   "id": "8gJT9KQ9_kX_",
   "metadata": {
    "colab": {
     "base_uri": "https://localhost:8080/"
    },
    "executionInfo": {
     "elapsed": 284,
     "status": "ok",
     "timestamp": 1702853957691,
     "user": {
      "displayName": "No “NoEM” EM",
      "userId": "18134362320568151074"
     },
     "user_tz": -60
    },
    "id": "8gJT9KQ9_kX_",
    "outputId": "7d963527-a4a3-44d1-c0a9-f6f174361c07"
   },
   "outputs": [],
   "source": [
    "df.iloc[2000].values"
   ]
  },
  {
   "cell_type": "markdown",
   "id": "kOIEaHU8_SA-",
   "metadata": {
    "id": "kOIEaHU8_SA-"
   },
   "source": [
    "Load the model"
   ]
  },
  {
   "cell_type": "code",
   "execution_count": null,
   "id": "raFI3JwS5Ivy",
   "metadata": {
    "id": "raFI3JwS5Ivy"
   },
   "outputs": [],
   "source": [
    "import pickle"
   ]
  },
  {
   "cell_type": "code",
   "execution_count": null,
   "id": "q2P0X8ce5Li0",
   "metadata": {
    "executionInfo": {
     "elapsed": 270,
     "status": "ok",
     "timestamp": 1702854442918,
     "user": {
      "displayName": "No “NoEM” EM",
      "userId": "18134362320568151074"
     },
     "user_tz": -60
    },
    "id": "q2P0X8ce5Li0"
   },
   "outputs": [],
   "source": [
    "input_file = \"model_wpp.pkl\""
   ]
  },
  {
   "cell_type": "code",
   "execution_count": null,
   "id": "13PoMDqR5QU8",
   "metadata": {
    "executionInfo": {
     "elapsed": 1272,
     "status": "ok",
     "timestamp": 1702854446369,
     "user": {
      "displayName": "No “NoEM” EM",
      "userId": "18134362320568151074"
     },
     "user_tz": -60
    },
    "id": "13PoMDqR5QU8"
   },
   "outputs": [],
   "source": [
    "with open(input_file, \"rb\") as f_in:\n",
    "    model = pickle.load(f_in)"
   ]
  },
  {
   "cell_type": "code",
   "execution_count": null,
   "id": "20EJoJAE5T2c",
   "metadata": {
    "colab": {
     "base_uri": "https://localhost:8080/",
     "height": 268
    },
    "executionInfo": {
     "elapsed": 289,
     "status": "ok",
     "timestamp": 1702854448489,
     "user": {
      "displayName": "No “NoEM” EM",
      "userId": "18134362320568151074"
     },
     "user_tz": -60
    },
    "id": "20EJoJAE5T2c",
    "outputId": "000b937e-34ad-4582-8467-2d0051dd23e8"
   },
   "outputs": [],
   "source": [
    "model"
   ]
  },
  {
   "cell_type": "markdown",
   "id": "fLrL9ye15X-f",
   "metadata": {
    "id": "fLrL9ye15X-f"
   },
   "source": [
    "\n",
    "Test the model"
   ]
  },
  {
   "cell_type": "code",
   "execution_count": 5,
   "id": "uPhSp5ov5Wvz",
   "metadata": {
    "executionInfo": {
     "elapsed": 303,
     "status": "ok",
     "timestamp": 1702854454783,
     "user": {
      "displayName": "No “NoEM” EM",
      "userId": "18134362320568151074"
     },
     "user_tz": -60
    },
    "id": "uPhSp5ov5Wvz"
   },
   "outputs": [],
   "source": [
    "import requests"
   ]
  },
  {
   "cell_type": "code",
   "execution_count": 6,
   "id": "b1VSBLIA5eoQ",
   "metadata": {
    "executionInfo": {
     "elapsed": 414,
     "status": "ok",
     "timestamp": 1702854463833,
     "user": {
      "displayName": "No “NoEM” EM",
      "userId": "18134362320568151074"
     },
     "user_tz": -60
    },
    "id": "b1VSBLIA5eoQ"
   },
   "outputs": [],
   "source": [
    "url = \"http://localhost:9696/predict\""
   ]
  },
  {
   "cell_type": "code",
   "execution_count": 7,
   "id": "GrRGCAMr5jx4",
   "metadata": {
    "executionInfo": {
     "elapsed": 269,
     "status": "ok",
     "timestamp": 1702854687195,
     "user": {
      "displayName": "No “NoEM” EM",
      "userId": "18134362320568151074"
     },
     "user_tz": -60
    },
    "id": "GrRGCAMr5jx4"
   },
   "outputs": [],
   "source": [
    "water_data = {\n",
    "  'ph': 7.442023,\n",
    "  'hardness': 1.9476,\n",
    "  'solids': 3.4565,\n",
    "  'chloramines': 8.493347,\n",
    "  'sulfate': 2.9483,\n",
    "  'conductivity': 3.50085,\n",
    "  'organic_carbon': 1.89620,\n",
    "  'trihalomethanes': 7.9958,\n",
    "  'turbidity': 2.894651\n",
    "}"
   ]
  },
  {
   "cell_type": "code",
   "execution_count": 8,
   "id": "xknv_txp5jsW",
   "metadata": {
    "colab": {
     "base_uri": "https://localhost:8080/",
     "height": 382
    },
    "executionInfo": {
     "elapsed": 293,
     "status": "error",
     "timestamp": 1702856024302,
     "user": {
      "displayName": "No “NoEM” EM",
      "userId": "18134362320568151074"
     },
     "user_tz": -60
    },
    "id": "xknv_txp5jsW",
    "outputId": "0fd53937-c428-4f31-e885-e1e34ccec75b"
   },
   "outputs": [],
   "source": [
    "response = requests.post(url, json=water_data).json()"
   ]
  },
  {
   "cell_type": "code",
   "execution_count": 9,
   "id": "Fy8FhC8O5juh",
   "metadata": {
    "id": "Fy8FhC8O5juh"
   },
   "outputs": [
    {
     "data": {
      "text/plain": [
       "{'water_quality': 'drinkable'}"
      ]
     },
     "execution_count": 9,
     "metadata": {},
     "output_type": "execute_result"
    }
   ],
   "source": [
    "response"
   ]
  },
  {
   "cell_type": "code",
   "execution_count": null,
   "id": "140fed9e-b742-4207-9a07-e20272515154",
   "metadata": {},
   "outputs": [],
   "source": []
  }
 ],
 "metadata": {
  "colab": {
   "provenance": []
  },
  "kernelspec": {
   "display_name": "Python 3 (ipykernel)",
   "language": "python",
   "name": "python3"
  },
  "language_info": {
   "codemirror_mode": {
    "name": "ipython",
    "version": 3
   },
   "file_extension": ".py",
   "mimetype": "text/x-python",
   "name": "python",
   "nbconvert_exporter": "python",
   "pygments_lexer": "ipython3",
   "version": "3.11.5"
  }
 },
 "nbformat": 4,
 "nbformat_minor": 5
}
